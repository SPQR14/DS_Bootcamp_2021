{
 "cells": [
  {
   "cell_type": "code",
   "execution_count": 2,
   "id": "4bc1d52a",
   "metadata": {},
   "outputs": [],
   "source": [
    "import numpy as np"
   ]
  },
  {
   "cell_type": "code",
   "execution_count": 3,
   "id": "403d7e23",
   "metadata": {},
   "outputs": [
    {
     "data": {
      "text/plain": [
       "array([ 0,  1,  2,  3,  4,  5,  6,  7,  8,  9, 10, 11, 12, 13, 14, 15, 16,\n",
       "       17, 18, 19, 20, 21, 22, 23, 24, 25, 26, 27, 28, 29, 30, 31, 32, 33,\n",
       "       34, 35, 36, 37, 38, 39, 40, 41, 42, 43, 44, 45, 46, 47, 48, 49, 50,\n",
       "       51, 52, 53, 54, 55, 56, 57, 58, 59, 60, 61, 62, 63, 64, 65, 66, 67,\n",
       "       68, 69, 70, 71, 72, 73, 74, 75, 76, 77, 78, 79, 80, 81, 82, 83, 84,\n",
       "       85, 86, 87, 88, 89, 90, 91, 92, 93, 94, 95, 96, 97, 98, 99])"
      ]
     },
     "execution_count": 3,
     "metadata": {},
     "output_type": "execute_result"
    }
   ],
   "source": [
    "np.array([x for x in range(0,100)])"
   ]
  },
  {
   "cell_type": "code",
   "execution_count": 4,
   "id": "6848d70a",
   "metadata": {},
   "outputs": [],
   "source": [
    "a = np.array([x for x in range(1,6)])"
   ]
  },
  {
   "cell_type": "code",
   "execution_count": 5,
   "id": "ec3a3f0b",
   "metadata": {},
   "outputs": [
    {
     "data": {
      "text/plain": [
       "numpy.ndarray"
      ]
     },
     "execution_count": 5,
     "metadata": {},
     "output_type": "execute_result"
    }
   ],
   "source": [
    "type(a)"
   ]
  },
  {
   "cell_type": "code",
   "execution_count": 6,
   "id": "480b2f4b",
   "metadata": {},
   "outputs": [
    {
     "data": {
      "text/plain": [
       "5"
      ]
     },
     "execution_count": 6,
     "metadata": {},
     "output_type": "execute_result"
    }
   ],
   "source": [
    "a.size"
   ]
  },
  {
   "cell_type": "code",
   "execution_count": 7,
   "id": "76a42aa3",
   "metadata": {},
   "outputs": [
    {
     "data": {
      "text/plain": [
       "array([1, 2, 3, 4, 5])"
      ]
     },
     "execution_count": 7,
     "metadata": {},
     "output_type": "execute_result"
    }
   ],
   "source": [
    "a"
   ]
  },
  {
   "cell_type": "code",
   "execution_count": 8,
   "id": "558160b7",
   "metadata": {},
   "outputs": [
    {
     "data": {
      "text/plain": [
       "1"
      ]
     },
     "execution_count": 8,
     "metadata": {},
     "output_type": "execute_result"
    }
   ],
   "source": [
    "a.ndim"
   ]
  },
  {
   "cell_type": "code",
   "execution_count": 9,
   "id": "f730cd24",
   "metadata": {},
   "outputs": [
    {
     "data": {
      "text/plain": [
       "dtype('int64')"
      ]
     },
     "execution_count": 9,
     "metadata": {},
     "output_type": "execute_result"
    }
   ],
   "source": [
    "a.dtype"
   ]
  },
  {
   "cell_type": "code",
   "execution_count": 10,
   "id": "c9b24a9f",
   "metadata": {},
   "outputs": [
    {
     "data": {
      "text/plain": [
       "(5,)"
      ]
     },
     "execution_count": 10,
     "metadata": {},
     "output_type": "execute_result"
    }
   ],
   "source": [
    "a.shape"
   ]
  },
  {
   "cell_type": "code",
   "execution_count": 11,
   "id": "b85a34f8",
   "metadata": {},
   "outputs": [],
   "source": [
    "b = np.array([[x for x in range(1, 11)], [x for x in range(1, 11)], [x for x in range(1, 11)]])"
   ]
  },
  {
   "cell_type": "code",
   "execution_count": 12,
   "id": "0ea81412",
   "metadata": {},
   "outputs": [
    {
     "data": {
      "text/plain": [
       "(3, 10)"
      ]
     },
     "execution_count": 12,
     "metadata": {},
     "output_type": "execute_result"
    }
   ],
   "source": [
    "b.shape"
   ]
  },
  {
   "cell_type": "code",
   "execution_count": 13,
   "id": "97e1fd86",
   "metadata": {},
   "outputs": [
    {
     "data": {
      "text/plain": [
       "2"
      ]
     },
     "execution_count": 13,
     "metadata": {},
     "output_type": "execute_result"
    }
   ],
   "source": [
    "b.ndim"
   ]
  },
  {
   "cell_type": "code",
   "execution_count": 14,
   "id": "3735227a",
   "metadata": {},
   "outputs": [
    {
     "data": {
      "text/plain": [
       "30"
      ]
     },
     "execution_count": 14,
     "metadata": {},
     "output_type": "execute_result"
    }
   ],
   "source": [
    "b.size"
   ]
  },
  {
   "cell_type": "code",
   "execution_count": 15,
   "id": "27e6546f",
   "metadata": {},
   "outputs": [
    {
     "data": {
      "text/plain": [
       "array([[ 1,  2,  3,  4,  5,  6,  7,  8,  9, 10],\n",
       "       [ 1,  2,  3,  4,  5,  6,  7,  8,  9, 10],\n",
       "       [ 1,  2,  3,  4,  5,  6,  7,  8,  9, 10]])"
      ]
     },
     "execution_count": 15,
     "metadata": {},
     "output_type": "execute_result"
    }
   ],
   "source": [
    "b"
   ]
  },
  {
   "cell_type": "code",
   "execution_count": 16,
   "id": "9d2f3233",
   "metadata": {},
   "outputs": [
    {
     "data": {
      "text/plain": [
       "array([11, 12, 13, 14, 15])"
      ]
     },
     "execution_count": 16,
     "metadata": {},
     "output_type": "execute_result"
    }
   ],
   "source": [
    "a + 10"
   ]
  },
  {
   "cell_type": "code",
   "execution_count": 17,
   "id": "22271528",
   "metadata": {},
   "outputs": [
    {
     "data": {
      "text/plain": [
       "array([[ 3,  6,  9, 12, 15, 18, 21, 24, 27, 30],\n",
       "       [ 3,  6,  9, 12, 15, 18, 21, 24, 27, 30],\n",
       "       [ 3,  6,  9, 12, 15, 18, 21, 24, 27, 30]])"
      ]
     },
     "execution_count": 17,
     "metadata": {},
     "output_type": "execute_result"
    }
   ],
   "source": [
    "np.multiply(b, 3)"
   ]
  },
  {
   "cell_type": "code",
   "execution_count": 18,
   "id": "20abe1b1",
   "metadata": {},
   "outputs": [],
   "source": [
    "b = np.array([6, 7, 8, 9, 10])"
   ]
  },
  {
   "cell_type": "code",
   "execution_count": 19,
   "id": "4f07b15b",
   "metadata": {},
   "outputs": [
    {
     "data": {
      "text/plain": [
       "array([ 7,  9, 11, 13, 15])"
      ]
     },
     "execution_count": 19,
     "metadata": {},
     "output_type": "execute_result"
    }
   ],
   "source": [
    "a + b"
   ]
  },
  {
   "cell_type": "code",
   "execution_count": 20,
   "id": "b353d6ac",
   "metadata": {},
   "outputs": [
    {
     "data": {
      "text/plain": [
       "array([-5, -5, -5, -5, -5])"
      ]
     },
     "execution_count": 20,
     "metadata": {},
     "output_type": "execute_result"
    }
   ],
   "source": [
    "a - b"
   ]
  },
  {
   "cell_type": "code",
   "execution_count": 21,
   "id": "49b9b527",
   "metadata": {},
   "outputs": [],
   "source": [
    "a = np.array([1,2,3,4,5])"
   ]
  },
  {
   "cell_type": "code",
   "execution_count": 22,
   "id": "5c54503e",
   "metadata": {},
   "outputs": [
    {
     "data": {
      "text/plain": [
       "dtype('int64')"
      ]
     },
     "execution_count": 22,
     "metadata": {},
     "output_type": "execute_result"
    }
   ],
   "source": [
    "a.dtype"
   ]
  },
  {
   "cell_type": "code",
   "execution_count": 23,
   "id": "047d7ddf",
   "metadata": {},
   "outputs": [],
   "source": [
    "a = np.array([1, 2, 3, 4, 5], dtype = float)"
   ]
  },
  {
   "cell_type": "code",
   "execution_count": 24,
   "id": "6db4d43d",
   "metadata": {},
   "outputs": [
    {
     "data": {
      "text/plain": [
       "array([1., 2., 3., 4., 5.])"
      ]
     },
     "execution_count": 24,
     "metadata": {},
     "output_type": "execute_result"
    }
   ],
   "source": [
    "a"
   ]
  },
  {
   "cell_type": "code",
   "execution_count": 25,
   "id": "40de4383",
   "metadata": {},
   "outputs": [
    {
     "data": {
      "text/plain": [
       "array([ True,  True, False])"
      ]
     },
     "execution_count": 25,
     "metadata": {},
     "output_type": "execute_result"
    }
   ],
   "source": [
    "np.array([True, True, False])"
   ]
  },
  {
   "cell_type": "code",
   "execution_count": 26,
   "id": "e0834d88",
   "metadata": {},
   "outputs": [
    {
     "data": {
      "text/plain": [
       "array([  1,   2,   3,   4,   5,   6,   7,   8,   9,  10,  11,  12,  13,\n",
       "        14,  15,  16,  17,  18,  19,  20,  21,  22,  23,  24,  25,  26,\n",
       "        27,  28,  29,  30,  31,  32,  33,  34,  35,  36,  37,  38,  39,\n",
       "        40,  41,  42,  43,  44,  45,  46,  47,  48,  49,  50,  51,  52,\n",
       "        53,  54,  55,  56,  57,  58,  59,  60,  61,  62,  63,  64,  65,\n",
       "        66,  67,  68,  69,  70,  71,  72,  73,  74,  75,  76,  77,  78,\n",
       "        79,  80,  81,  82,  83,  84,  85,  86,  87,  88,  89,  90,  91,\n",
       "        92,  93,  94,  95,  96,  97,  98,  99, 100])"
      ]
     },
     "execution_count": 26,
     "metadata": {},
     "output_type": "execute_result"
    }
   ],
   "source": [
    "np.arange(1, 101)"
   ]
  },
  {
   "cell_type": "code",
   "execution_count": 27,
   "id": "075dc108",
   "metadata": {},
   "outputs": [
    {
     "data": {
      "text/plain": [
       "array([ 1,  3,  5,  7,  9, 11, 13, 15, 17, 19, 21, 23, 25, 27, 29, 31, 33,\n",
       "       35, 37, 39, 41, 43, 45, 47, 49, 51, 53, 55, 57, 59, 61, 63, 65, 67,\n",
       "       69, 71, 73, 75, 77, 79, 81, 83, 85, 87, 89, 91, 93, 95, 97, 99])"
      ]
     },
     "execution_count": 27,
     "metadata": {},
     "output_type": "execute_result"
    }
   ],
   "source": [
    "np.arange(1, 101, 2)"
   ]
  },
  {
   "cell_type": "code",
   "execution_count": 28,
   "id": "8a06eb13",
   "metadata": {},
   "outputs": [
    {
     "data": {
      "text/plain": [
       "array([0., 0., 0., 0., 0., 0., 0., 0., 0., 0.])"
      ]
     },
     "execution_count": 28,
     "metadata": {},
     "output_type": "execute_result"
    }
   ],
   "source": [
    "np.zeros(10)"
   ]
  },
  {
   "cell_type": "code",
   "execution_count": 29,
   "id": "3e6f6fdb",
   "metadata": {},
   "outputs": [
    {
     "data": {
      "text/plain": [
       "array([0, 0, 0, 0, 0, 0, 0, 0, 0, 0])"
      ]
     },
     "execution_count": 29,
     "metadata": {},
     "output_type": "execute_result"
    }
   ],
   "source": [
    "np.zeros(10, dtype = int)"
   ]
  },
  {
   "cell_type": "code",
   "execution_count": 30,
   "id": "787c43de",
   "metadata": {},
   "outputs": [
    {
     "data": {
      "text/plain": [
       "array([1, 1, 1, 1, 1, 1, 1, 1, 1, 1])"
      ]
     },
     "execution_count": 30,
     "metadata": {},
     "output_type": "execute_result"
    }
   ],
   "source": [
    "np.ones(10, dtype = int)"
   ]
  },
  {
   "cell_type": "code",
   "execution_count": 31,
   "id": "6602578e",
   "metadata": {},
   "outputs": [
    {
     "data": {
      "text/plain": [
       "array([1.14098110e-313, 0.00000000e+000, 0.00000000e+000, 0.00000000e+000,\n",
       "       6.92449667e-310, 2.46655861e+184, 7.48392573e-067, 4.75876064e-090,\n",
       "       5.70094499e-038, 6.92454241e-310])"
      ]
     },
     "execution_count": 31,
     "metadata": {},
     "output_type": "execute_result"
    }
   ],
   "source": [
    "np.empty(10)"
   ]
  },
  {
   "cell_type": "code",
   "execution_count": 32,
   "id": "9a6b1cfc",
   "metadata": {},
   "outputs": [
    {
     "data": {
      "text/plain": [
       "array([22, 10, 12, 20, 13, 16,  7, 15, 21, 11,  3, 10, 24, 11,  8, 21, 24,\n",
       "       19, 26, 12, 24, 20, 10, 21, 24,  6, 20, 18,  9, 23, 10, 26, 21, 27,\n",
       "       13, 15, 11,  1, 26, 18,  6,  2, 23, 15, 14, 21, 16, 26, 21,  1])"
      ]
     },
     "execution_count": 32,
     "metadata": {},
     "output_type": "execute_result"
    }
   ],
   "source": [
    "np.random.randint(1, 28, 50)"
   ]
  },
  {
   "cell_type": "code",
   "execution_count": 33,
   "id": "40d47fbe",
   "metadata": {},
   "outputs": [
    {
     "data": {
      "text/plain": [
       "array([1.14098110e-313, 0.00000000e+000, 0.00000000e+000, 0.00000000e+000,\n",
       "       6.92449667e-310, 2.46655861e+184, 7.48392573e-067, 4.75876064e-090,\n",
       "       5.70094499e-038, 6.92454241e-310])"
      ]
     },
     "execution_count": 33,
     "metadata": {},
     "output_type": "execute_result"
    }
   ],
   "source": [
    "np.empty(10)"
   ]
  },
  {
   "cell_type": "code",
   "execution_count": 34,
   "id": "51855eec",
   "metadata": {},
   "outputs": [],
   "source": [
    "a = np.random.randint(0, 10, 10)"
   ]
  },
  {
   "cell_type": "code",
   "execution_count": 35,
   "id": "6fafef34",
   "metadata": {},
   "outputs": [
    {
     "data": {
      "text/plain": [
       "array([5, 3, 5, 4, 6, 6, 5, 9, 9, 5])"
      ]
     },
     "execution_count": 35,
     "metadata": {},
     "output_type": "execute_result"
    }
   ],
   "source": [
    "a"
   ]
  },
  {
   "cell_type": "code",
   "execution_count": 36,
   "id": "f6a3ee83",
   "metadata": {},
   "outputs": [
    {
     "data": {
      "text/plain": [
       "array([5, 3, 5])"
      ]
     },
     "execution_count": 36,
     "metadata": {},
     "output_type": "execute_result"
    }
   ],
   "source": [
    "a[0:3]"
   ]
  },
  {
   "cell_type": "code",
   "execution_count": 37,
   "id": "b9d3c857",
   "metadata": {},
   "outputs": [
    {
     "data": {
      "text/plain": [
       "array([6, 6, 5, 9, 9, 5])"
      ]
     },
     "execution_count": 37,
     "metadata": {},
     "output_type": "execute_result"
    }
   ],
   "source": [
    "a[-6:]"
   ]
  },
  {
   "cell_type": "code",
   "execution_count": 38,
   "id": "93f111cc",
   "metadata": {},
   "outputs": [],
   "source": [
    "a[0] = 19"
   ]
  },
  {
   "cell_type": "code",
   "execution_count": 39,
   "id": "2a0cc23c",
   "metadata": {},
   "outputs": [
    {
     "data": {
      "text/plain": [
       "array([19,  3,  5,  4,  6,  6,  5,  9,  9,  5])"
      ]
     },
     "execution_count": 39,
     "metadata": {},
     "output_type": "execute_result"
    }
   ],
   "source": [
    "a"
   ]
  },
  {
   "cell_type": "code",
   "execution_count": 40,
   "id": "66c2dbc4",
   "metadata": {},
   "outputs": [],
   "source": [
    "a = np.random.randint(0, 100, 20)"
   ]
  },
  {
   "cell_type": "code",
   "execution_count": 41,
   "id": "fab662f2",
   "metadata": {},
   "outputs": [
    {
     "data": {
      "text/plain": [
       "array([11, 24, 88, 98, 47, 57, 16, 30, 52, 55, 52, 86, 33, 23, 88, 55, 41,\n",
       "       18, 19, 69])"
      ]
     },
     "execution_count": 41,
     "metadata": {},
     "output_type": "execute_result"
    }
   ],
   "source": [
    "a"
   ]
  },
  {
   "cell_type": "code",
   "execution_count": 42,
   "id": "3ad77ccb",
   "metadata": {},
   "outputs": [
    {
     "data": {
      "text/plain": [
       "array([11, 24, 88, 98, 47])"
      ]
     },
     "execution_count": 42,
     "metadata": {},
     "output_type": "execute_result"
    }
   ],
   "source": [
    "a[:5]"
   ]
  },
  {
   "cell_type": "code",
   "execution_count": 43,
   "id": "78cdb849",
   "metadata": {},
   "outputs": [
    {
     "data": {
      "text/plain": [
       "array([11, 24, 88, 98, 47, 57, 16, 30, 52, 55])"
      ]
     },
     "execution_count": 43,
     "metadata": {},
     "output_type": "execute_result"
    }
   ],
   "source": [
    "#a[start, end, hops]\n",
    "a[:10]"
   ]
  },
  {
   "cell_type": "code",
   "execution_count": 44,
   "id": "5771ae4e",
   "metadata": {},
   "outputs": [
    {
     "data": {
      "text/plain": [
       "11"
      ]
     },
     "execution_count": 44,
     "metadata": {},
     "output_type": "execute_result"
    }
   ],
   "source": [
    "a[0]"
   ]
  },
  {
   "cell_type": "code",
   "execution_count": 45,
   "id": "9f6540c4",
   "metadata": {},
   "outputs": [
    {
     "data": {
      "text/plain": [
       "24"
      ]
     },
     "execution_count": 45,
     "metadata": {},
     "output_type": "execute_result"
    }
   ],
   "source": [
    "a[1]"
   ]
  },
  {
   "cell_type": "code",
   "execution_count": 46,
   "id": "4bf97584",
   "metadata": {},
   "outputs": [
    {
     "data": {
      "text/plain": [
       "98"
      ]
     },
     "execution_count": 46,
     "metadata": {},
     "output_type": "execute_result"
    }
   ],
   "source": [
    "a[3]"
   ]
  },
  {
   "cell_type": "code",
   "execution_count": 47,
   "id": "6b69f347",
   "metadata": {},
   "outputs": [
    {
     "data": {
      "text/plain": [
       "array([11, 47, 30, 57])"
      ]
     },
     "execution_count": 47,
     "metadata": {},
     "output_type": "execute_result"
    }
   ],
   "source": [
    "a[[0,4,7,5]]"
   ]
  },
  {
   "cell_type": "code",
   "execution_count": 48,
   "id": "8a3e26e1",
   "metadata": {},
   "outputs": [],
   "source": [
    "b = np.array([1,2,3,4,5])"
   ]
  },
  {
   "cell_type": "code",
   "execution_count": 49,
   "id": "9ff28987",
   "metadata": {},
   "outputs": [
    {
     "data": {
      "text/plain": [
       "array([1, 2, 3, 4, 5])"
      ]
     },
     "execution_count": 49,
     "metadata": {},
     "output_type": "execute_result"
    }
   ],
   "source": [
    "b"
   ]
  },
  {
   "cell_type": "code",
   "execution_count": 50,
   "id": "d1d4503f",
   "metadata": {},
   "outputs": [
    {
     "data": {
      "text/plain": [
       "array([1, 2, 4])"
      ]
     },
     "execution_count": 50,
     "metadata": {},
     "output_type": "execute_result"
    }
   ],
   "source": [
    "b[[True, True, False, True, False]]"
   ]
  },
  {
   "cell_type": "code",
   "execution_count": 51,
   "id": "c0298dec",
   "metadata": {},
   "outputs": [],
   "source": [
    "a = np.random.randint(1, 100, 100)"
   ]
  },
  {
   "cell_type": "code",
   "execution_count": 52,
   "id": "d82d4f76",
   "metadata": {},
   "outputs": [
    {
     "data": {
      "text/plain": [
       "array([47, 48, 36, 84, 83, 97, 77,  8, 38, 31, 19,  2, 25, 69, 77, 87, 23,\n",
       "       50, 46, 56, 41, 24, 76, 97, 48, 72, 41, 61, 70,  8, 62, 87, 20, 57,\n",
       "       21, 36, 59, 11, 28, 69, 18, 71,  6, 18,  5,  3, 99, 47, 82, 45, 70,\n",
       "       36, 42, 24, 52, 64, 76, 56, 72, 97, 43,  8, 15, 91, 56, 30, 23,  6,\n",
       "       63, 85, 40, 98, 15, 85, 93, 29, 24, 15, 86, 91, 58, 87, 22, 93, 75,\n",
       "       89, 17, 37, 16, 16,  5, 10, 50, 93, 73, 88,  2, 97, 20, 63])"
      ]
     },
     "execution_count": 52,
     "metadata": {},
     "output_type": "execute_result"
    }
   ],
   "source": [
    "a"
   ]
  },
  {
   "cell_type": "code",
   "execution_count": 53,
   "id": "aced59c6",
   "metadata": {},
   "outputs": [],
   "source": [
    "def operacion(valor):\n",
    "    \"\"\"Eleva al cuadrado el argumento recibido por valor y le suma dos\"\"\"\n",
    "    return (valor ** 2) + 2"
   ]
  },
  {
   "cell_type": "code",
   "execution_count": 54,
   "id": "2df000c7",
   "metadata": {},
   "outputs": [
    {
     "name": "stdout",
     "output_type": "stream",
     "text": [
      "2211\n",
      "2306\n",
      "1298\n",
      "7058\n",
      "6891\n",
      "9411\n",
      "5931\n",
      "66\n",
      "1446\n",
      "963\n",
      "363\n",
      "6\n",
      "627\n",
      "4763\n",
      "5931\n",
      "7571\n",
      "531\n",
      "2502\n",
      "2118\n",
      "3138\n",
      "1683\n",
      "578\n",
      "5778\n",
      "9411\n",
      "2306\n",
      "5186\n",
      "1683\n",
      "3723\n",
      "4902\n",
      "66\n",
      "3846\n",
      "7571\n",
      "402\n",
      "3251\n",
      "443\n",
      "1298\n",
      "3483\n",
      "123\n",
      "786\n",
      "4763\n",
      "326\n",
      "5043\n",
      "38\n",
      "326\n",
      "27\n",
      "11\n",
      "9803\n",
      "2211\n",
      "6726\n",
      "2027\n",
      "4902\n",
      "1298\n",
      "1766\n",
      "578\n",
      "2706\n",
      "4098\n",
      "5778\n",
      "3138\n",
      "5186\n",
      "9411\n",
      "1851\n",
      "66\n",
      "227\n",
      "8283\n",
      "3138\n",
      "902\n",
      "531\n",
      "38\n",
      "3971\n",
      "7227\n",
      "1602\n",
      "9606\n",
      "227\n",
      "7227\n",
      "8651\n",
      "843\n",
      "578\n",
      "227\n",
      "7398\n",
      "8283\n",
      "3366\n",
      "7571\n",
      "486\n",
      "8651\n",
      "5627\n",
      "7923\n",
      "291\n",
      "1371\n",
      "258\n",
      "258\n",
      "27\n",
      "102\n",
      "2502\n",
      "8651\n",
      "5331\n",
      "7746\n",
      "6\n",
      "9411\n",
      "402\n",
      "3971\n"
     ]
    }
   ],
   "source": [
    "for valor in a:\n",
    "    print(operacion(valor))"
   ]
  },
  {
   "cell_type": "code",
   "execution_count": 55,
   "id": "cf5f2070",
   "metadata": {},
   "outputs": [],
   "source": [
    "vector = np.vectorize(operacion)"
   ]
  },
  {
   "cell_type": "code",
   "execution_count": 56,
   "id": "b6a1de65",
   "metadata": {},
   "outputs": [
    {
     "data": {
      "text/plain": [
       "array([2211, 2306, 1298, 7058, 6891, 9411, 5931,   66, 1446,  963,  363,\n",
       "          6,  627, 4763, 5931, 7571,  531, 2502, 2118, 3138, 1683,  578,\n",
       "       5778, 9411, 2306, 5186, 1683, 3723, 4902,   66, 3846, 7571,  402,\n",
       "       3251,  443, 1298, 3483,  123,  786, 4763,  326, 5043,   38,  326,\n",
       "         27,   11, 9803, 2211, 6726, 2027, 4902, 1298, 1766,  578, 2706,\n",
       "       4098, 5778, 3138, 5186, 9411, 1851,   66,  227, 8283, 3138,  902,\n",
       "        531,   38, 3971, 7227, 1602, 9606,  227, 7227, 8651,  843,  578,\n",
       "        227, 7398, 8283, 3366, 7571,  486, 8651, 5627, 7923,  291, 1371,\n",
       "        258,  258,   27,  102, 2502, 8651, 5331, 7746,    6, 9411,  402,\n",
       "       3971])"
      ]
     },
     "execution_count": 56,
     "metadata": {},
     "output_type": "execute_result"
    }
   ],
   "source": [
    "vector(a)"
   ]
  },
  {
   "cell_type": "code",
   "execution_count": 57,
   "id": "33678749",
   "metadata": {},
   "outputs": [],
   "source": [
    "vector = np.vectorize(lambda valor: (valor ** 3 ) + 2)"
   ]
  },
  {
   "cell_type": "code",
   "execution_count": 58,
   "id": "7660fe66",
   "metadata": {},
   "outputs": [
    {
     "data": {
      "text/plain": [
       "array([103825, 110594,  46658, 592706, 571789, 912675, 456535,    514,\n",
       "        54874,  29793,   6861,     10,  15627, 328511, 456535, 658505,\n",
       "        12169, 125002,  97338, 175618,  68923,  13826, 438978, 912675,\n",
       "       110594, 373250,  68923, 226983, 343002,    514, 238330, 658505,\n",
       "         8002, 185195,   9263,  46658, 205381,   1333,  21954, 328511,\n",
       "         5834, 357913,    218,   5834,    127,     29, 970301, 103825,\n",
       "       551370,  91127, 343002,  46658,  74090,  13826, 140610, 262146,\n",
       "       438978, 175618, 373250, 912675,  79509,    514,   3377, 753573,\n",
       "       175618,  27002,  12169,    218, 250049, 614127,  64002, 941194,\n",
       "         3377, 614127, 804359,  24391,  13826,   3377, 636058, 753573,\n",
       "       195114, 658505,  10650, 804359, 421877, 704971,   4915,  50655,\n",
       "         4098,   4098,    127,   1002, 125002, 804359, 389019, 681474,\n",
       "           10, 912675,   8002, 250049])"
      ]
     },
     "execution_count": 58,
     "metadata": {},
     "output_type": "execute_result"
    }
   ],
   "source": [
    "vector(a)"
   ]
  },
  {
   "cell_type": "code",
   "execution_count": 59,
   "id": "9183dc95",
   "metadata": {},
   "outputs": [],
   "source": [
    "a = np.arange(0, 9)"
   ]
  },
  {
   "cell_type": "code",
   "execution_count": 60,
   "id": "914239e6",
   "metadata": {},
   "outputs": [
    {
     "data": {
      "text/plain": [
       "array([0, 1, 2, 3, 4, 5, 6, 7, 8])"
      ]
     },
     "execution_count": 60,
     "metadata": {},
     "output_type": "execute_result"
    }
   ],
   "source": [
    "a"
   ]
  },
  {
   "cell_type": "code",
   "execution_count": 61,
   "id": "46f08826",
   "metadata": {},
   "outputs": [],
   "source": [
    "#copias\n",
    "a_1 = a.copy()"
   ]
  },
  {
   "cell_type": "code",
   "execution_count": 62,
   "id": "b4bda3b1",
   "metadata": {},
   "outputs": [
    {
     "data": {
      "text/plain": [
       "array([0, 1, 2, 3, 4, 5, 6, 7, 8])"
      ]
     },
     "execution_count": 62,
     "metadata": {},
     "output_type": "execute_result"
    }
   ],
   "source": [
    "a_1"
   ]
  },
  {
   "cell_type": "code",
   "execution_count": 63,
   "id": "b70cc575",
   "metadata": {},
   "outputs": [
    {
     "data": {
      "text/plain": [
       "140155742096400"
      ]
     },
     "execution_count": 63,
     "metadata": {},
     "output_type": "execute_result"
    }
   ],
   "source": [
    "id(a)"
   ]
  },
  {
   "cell_type": "code",
   "execution_count": 64,
   "id": "f43b74df",
   "metadata": {},
   "outputs": [
    {
     "data": {
      "text/plain": [
       "140155742096880"
      ]
     },
     "execution_count": 64,
     "metadata": {},
     "output_type": "execute_result"
    }
   ],
   "source": [
    "id(a_1)"
   ]
  },
  {
   "cell_type": "code",
   "execution_count": 65,
   "id": "f65510dd",
   "metadata": {},
   "outputs": [
    {
     "data": {
      "text/plain": [
       "False"
      ]
     },
     "execution_count": 65,
     "metadata": {},
     "output_type": "execute_result"
    }
   ],
   "source": [
    "a is a_1"
   ]
  },
  {
   "cell_type": "code",
   "execution_count": 66,
   "id": "676760b4",
   "metadata": {},
   "outputs": [],
   "source": [
    "a[0] = 100"
   ]
  },
  {
   "cell_type": "code",
   "execution_count": 67,
   "id": "13091304",
   "metadata": {},
   "outputs": [
    {
     "data": {
      "text/plain": [
       "array([100,   1,   2,   3,   4,   5,   6,   7,   8])"
      ]
     },
     "execution_count": 67,
     "metadata": {},
     "output_type": "execute_result"
    }
   ],
   "source": [
    "a"
   ]
  },
  {
   "cell_type": "code",
   "execution_count": 68,
   "id": "02933ebb",
   "metadata": {},
   "outputs": [
    {
     "data": {
      "text/plain": [
       "array([0, 1, 2, 3, 4, 5, 6, 7, 8])"
      ]
     },
     "execution_count": 68,
     "metadata": {},
     "output_type": "execute_result"
    }
   ],
   "source": [
    "a_1"
   ]
  },
  {
   "cell_type": "code",
   "execution_count": 69,
   "id": "62eedade",
   "metadata": {},
   "outputs": [
    {
     "data": {
      "text/plain": [
       "array([100,   1,   2,   3,   4,   5,   6,   7,   8])"
      ]
     },
     "execution_count": 69,
     "metadata": {},
     "output_type": "execute_result"
    }
   ],
   "source": [
    "a.view()"
   ]
  },
  {
   "cell_type": "code",
   "execution_count": 70,
   "id": "40c4fc2c",
   "metadata": {},
   "outputs": [],
   "source": [
    "a_v = a.view()"
   ]
  },
  {
   "cell_type": "code",
   "execution_count": 71,
   "id": "87db55ab",
   "metadata": {},
   "outputs": [
    {
     "data": {
      "text/plain": [
       "140155742096400"
      ]
     },
     "execution_count": 71,
     "metadata": {},
     "output_type": "execute_result"
    }
   ],
   "source": [
    "id(a)"
   ]
  },
  {
   "cell_type": "code",
   "execution_count": 72,
   "id": "096422c8",
   "metadata": {},
   "outputs": [
    {
     "data": {
      "text/plain": [
       "140155742144272"
      ]
     },
     "execution_count": 72,
     "metadata": {},
     "output_type": "execute_result"
    }
   ],
   "source": [
    "id(a_v)"
   ]
  },
  {
   "cell_type": "code",
   "execution_count": 73,
   "id": "55b028df",
   "metadata": {},
   "outputs": [
    {
     "data": {
      "text/plain": [
       "False"
      ]
     },
     "execution_count": 73,
     "metadata": {},
     "output_type": "execute_result"
    }
   ],
   "source": [
    "a is a_v"
   ]
  },
  {
   "cell_type": "code",
   "execution_count": 74,
   "id": "92262616",
   "metadata": {},
   "outputs": [],
   "source": [
    "a[0] = 14"
   ]
  },
  {
   "cell_type": "code",
   "execution_count": 75,
   "id": "5ecd9d68",
   "metadata": {},
   "outputs": [
    {
     "data": {
      "text/plain": [
       "array([14,  1,  2,  3,  4,  5,  6,  7,  8])"
      ]
     },
     "execution_count": 75,
     "metadata": {},
     "output_type": "execute_result"
    }
   ],
   "source": [
    "a"
   ]
  },
  {
   "cell_type": "code",
   "execution_count": 76,
   "id": "90928598",
   "metadata": {},
   "outputs": [
    {
     "data": {
      "text/plain": [
       "array([14,  1,  2,  3,  4,  5,  6,  7,  8])"
      ]
     },
     "execution_count": 76,
     "metadata": {},
     "output_type": "execute_result"
    }
   ],
   "source": [
    "a_v"
   ]
  },
  {
   "cell_type": "code",
   "execution_count": 77,
   "id": "b7750e52",
   "metadata": {},
   "outputs": [],
   "source": [
    "a_v[-1] = 180"
   ]
  },
  {
   "cell_type": "code",
   "execution_count": 78,
   "id": "f31142a1",
   "metadata": {},
   "outputs": [
    {
     "data": {
      "text/plain": [
       "array([ 14,   1,   2,   3,   4,   5,   6,   7, 180])"
      ]
     },
     "execution_count": 78,
     "metadata": {},
     "output_type": "execute_result"
    }
   ],
   "source": [
    "a_v"
   ]
  },
  {
   "cell_type": "code",
   "execution_count": 79,
   "id": "3ced41d0",
   "metadata": {},
   "outputs": [
    {
     "data": {
      "text/plain": [
       "array([ 14,   1,   2,   3,   4,   5,   6,   7, 180])"
      ]
     },
     "execution_count": 79,
     "metadata": {},
     "output_type": "execute_result"
    }
   ],
   "source": [
    "a"
   ]
  },
  {
   "cell_type": "code",
   "execution_count": 80,
   "id": "5db71bad",
   "metadata": {},
   "outputs": [
    {
     "data": {
      "text/plain": [
       "array([ 14,   1,   2,   3,   4,   5,   6,   7, 180])"
      ]
     },
     "execution_count": 80,
     "metadata": {},
     "output_type": "execute_result"
    }
   ],
   "source": [
    "a_v.base"
   ]
  },
  {
   "cell_type": "code",
   "execution_count": 81,
   "id": "07528af8",
   "metadata": {},
   "outputs": [
    {
     "data": {
      "text/plain": [
       "140155742096400"
      ]
     },
     "execution_count": 81,
     "metadata": {},
     "output_type": "execute_result"
    }
   ],
   "source": [
    "id(a)"
   ]
  },
  {
   "cell_type": "code",
   "execution_count": 82,
   "id": "332876b9",
   "metadata": {},
   "outputs": [
    {
     "data": {
      "text/plain": [
       "140155742096400"
      ]
     },
     "execution_count": 82,
     "metadata": {},
     "output_type": "execute_result"
    }
   ],
   "source": [
    "id(a_v.base)"
   ]
  },
  {
   "cell_type": "code",
   "execution_count": 83,
   "id": "a0c7eeac",
   "metadata": {},
   "outputs": [],
   "source": [
    "d = a[:]"
   ]
  },
  {
   "cell_type": "code",
   "execution_count": 84,
   "id": "509ecfbb",
   "metadata": {},
   "outputs": [
    {
     "data": {
      "text/plain": [
       "array([ 14,   1,   2,   3,   4,   5,   6,   7, 180])"
      ]
     },
     "execution_count": 84,
     "metadata": {},
     "output_type": "execute_result"
    }
   ],
   "source": [
    "a"
   ]
  },
  {
   "cell_type": "code",
   "execution_count": 85,
   "id": "b095251d",
   "metadata": {},
   "outputs": [
    {
     "data": {
      "text/plain": [
       "array([ 14,   1,   2,   3,   4,   5,   6,   7, 180])"
      ]
     },
     "execution_count": 85,
     "metadata": {},
     "output_type": "execute_result"
    }
   ],
   "source": [
    "d"
   ]
  },
  {
   "cell_type": "code",
   "execution_count": 86,
   "id": "d60015c6",
   "metadata": {},
   "outputs": [
    {
     "data": {
      "text/plain": [
       "array([ 14,   1,   2,   3,   4,   5,   6,   7, 180])"
      ]
     },
     "execution_count": 86,
     "metadata": {},
     "output_type": "execute_result"
    }
   ],
   "source": [
    "d.base"
   ]
  },
  {
   "cell_type": "code",
   "execution_count": 87,
   "id": "4b398ca5",
   "metadata": {},
   "outputs": [
    {
     "data": {
      "text/plain": [
       "True"
      ]
     },
     "execution_count": 87,
     "metadata": {},
     "output_type": "execute_result"
    }
   ],
   "source": [
    "d.base is a"
   ]
  },
  {
   "cell_type": "code",
   "execution_count": 88,
   "id": "7a321872",
   "metadata": {},
   "outputs": [],
   "source": [
    "#añadir o quitar elementos de arreglos. No modifican los arreglos, crean un objeto arreglo aparte\n",
    "a = np.random.randint(1, 11, 10)"
   ]
  },
  {
   "cell_type": "code",
   "execution_count": 89,
   "id": "07aa7f35",
   "metadata": {},
   "outputs": [
    {
     "data": {
      "text/plain": [
       "array([3, 4, 2, 2, 6, 2, 8, 6, 3, 5])"
      ]
     },
     "execution_count": 89,
     "metadata": {},
     "output_type": "execute_result"
    }
   ],
   "source": [
    "a"
   ]
  },
  {
   "cell_type": "code",
   "execution_count": 90,
   "id": "ac1efb25",
   "metadata": {},
   "outputs": [
    {
     "data": {
      "text/plain": [
       "array([200,   3,   4,   2,   2,   6,   2,   8,   6,   3,   5])"
      ]
     },
     "execution_count": 90,
     "metadata": {},
     "output_type": "execute_result"
    }
   ],
   "source": [
    "np.insert(a, 0, 200)"
   ]
  },
  {
   "cell_type": "code",
   "execution_count": 91,
   "id": "c5eec565",
   "metadata": {},
   "outputs": [
    {
     "data": {
      "text/plain": [
       "array([  3,   4,   2,   2,   6,   2,   8,   6,   3,   5, 200])"
      ]
     },
     "execution_count": 91,
     "metadata": {},
     "output_type": "execute_result"
    }
   ],
   "source": [
    "np.append(a, 200)"
   ]
  },
  {
   "cell_type": "code",
   "execution_count": 92,
   "id": "d0f40af7",
   "metadata": {},
   "outputs": [
    {
     "data": {
      "text/plain": [
       "array([3, 4, 2, 2, 6, 2, 8, 6, 3])"
      ]
     },
     "execution_count": 92,
     "metadata": {},
     "output_type": "execute_result"
    }
   ],
   "source": [
    "#eliminar elementos\n",
    "np.delete(a, -1)"
   ]
  },
  {
   "cell_type": "code",
   "execution_count": 93,
   "id": "5e841c2f",
   "metadata": {},
   "outputs": [
    {
     "data": {
      "text/plain": [
       "10"
      ]
     },
     "execution_count": 93,
     "metadata": {},
     "output_type": "execute_result"
    }
   ],
   "source": [
    "a.size"
   ]
  },
  {
   "cell_type": "code",
   "execution_count": 94,
   "id": "65f9ecb2",
   "metadata": {},
   "outputs": [
    {
     "data": {
      "text/plain": [
       "array([3, 4, 2, 2, 6, 2, 8, 6, 3, 5, 3])"
      ]
     },
     "execution_count": 94,
     "metadata": {},
     "output_type": "execute_result"
    }
   ],
   "source": [
    "np.resize(a, 11)"
   ]
  },
  {
   "cell_type": "code",
   "execution_count": 95,
   "id": "de205bfc",
   "metadata": {},
   "outputs": [
    {
     "data": {
      "text/plain": [
       "array([3, 4, 2, 2, 6, 2, 8, 6, 3, 5])"
      ]
     },
     "execution_count": 95,
     "metadata": {},
     "output_type": "execute_result"
    }
   ],
   "source": [
    "a"
   ]
  },
  {
   "cell_type": "code",
   "execution_count": 96,
   "id": "81a345ad",
   "metadata": {},
   "outputs": [],
   "source": [
    "b = np.array([10, 20, 30, 40, 50])"
   ]
  },
  {
   "cell_type": "code",
   "execution_count": 97,
   "id": "bb7b0cbc",
   "metadata": {},
   "outputs": [
    {
     "data": {
      "text/plain": [
       "array([ 3,  4,  2,  2,  6,  2,  8,  6,  3,  5, 10, 20, 30, 40, 50])"
      ]
     },
     "execution_count": 97,
     "metadata": {},
     "output_type": "execute_result"
    }
   ],
   "source": [
    "np.concatenate([a, b])"
   ]
  },
  {
   "cell_type": "code",
   "execution_count": 98,
   "id": "3b6db8c6",
   "metadata": {},
   "outputs": [],
   "source": [
    "a = np.random.randint(0, 11, 100)"
   ]
  },
  {
   "cell_type": "code",
   "execution_count": 99,
   "id": "c1dea4c7",
   "metadata": {},
   "outputs": [],
   "source": [
    "a.sort()"
   ]
  },
  {
   "cell_type": "code",
   "execution_count": 100,
   "id": "5a280c40",
   "metadata": {},
   "outputs": [
    {
     "data": {
      "text/plain": [
       "array([ 0,  0,  0,  0,  0,  0,  1,  1,  1,  1,  1,  1,  1,  1,  1,  2,  2,\n",
       "        2,  2,  2,  3,  3,  3,  3,  3,  3,  3,  3,  3,  3,  3,  3,  3,  4,\n",
       "        4,  4,  4,  4,  4,  5,  5,  5,  5,  5,  5,  5,  5,  5,  5,  5,  6,\n",
       "        6,  6,  6,  6,  6,  6,  6,  7,  7,  7,  7,  7,  7,  7,  7,  7,  7,\n",
       "        7,  7,  7,  8,  8,  8,  8,  8,  8,  8,  9,  9,  9,  9,  9,  9,  9,\n",
       "        9,  9,  9, 10, 10, 10, 10, 10, 10, 10, 10, 10, 10, 10, 10])"
      ]
     },
     "execution_count": 100,
     "metadata": {},
     "output_type": "execute_result"
    }
   ],
   "source": [
    "a"
   ]
  },
  {
   "cell_type": "code",
   "execution_count": 101,
   "id": "b3f0128b",
   "metadata": {},
   "outputs": [],
   "source": [
    "a = a[::-1]"
   ]
  },
  {
   "cell_type": "code",
   "execution_count": 102,
   "id": "e020d257",
   "metadata": {},
   "outputs": [
    {
     "data": {
      "text/plain": [
       "array([10, 10, 10, 10, 10, 10, 10, 10, 10, 10, 10, 10,  9,  9,  9,  9,  9,\n",
       "        9,  9,  9,  9,  9,  8,  8,  8,  8,  8,  8,  8,  7,  7,  7,  7,  7,\n",
       "        7,  7,  7,  7,  7,  7,  7,  7,  6,  6,  6,  6,  6,  6,  6,  6,  5,\n",
       "        5,  5,  5,  5,  5,  5,  5,  5,  5,  5,  4,  4,  4,  4,  4,  4,  3,\n",
       "        3,  3,  3,  3,  3,  3,  3,  3,  3,  3,  3,  3,  2,  2,  2,  2,  2,\n",
       "        1,  1,  1,  1,  1,  1,  1,  1,  1,  0,  0,  0,  0,  0,  0])"
      ]
     },
     "execution_count": 102,
     "metadata": {},
     "output_type": "execute_result"
    }
   ],
   "source": [
    "a"
   ]
  },
  {
   "cell_type": "code",
   "execution_count": 103,
   "id": "724274b7",
   "metadata": {},
   "outputs": [],
   "source": [
    "b = np.random.randint(1, 100, 20)"
   ]
  },
  {
   "cell_type": "code",
   "execution_count": 104,
   "id": "3283aabe",
   "metadata": {},
   "outputs": [
    {
     "data": {
      "text/plain": [
       "array([53, 25, 94, 22, 85, 75, 27, 20, 78, 53, 90, 69, 87, 61, 83, 50, 43,\n",
       "       56, 37, 43])"
      ]
     },
     "execution_count": 104,
     "metadata": {},
     "output_type": "execute_result"
    }
   ],
   "source": [
    "b"
   ]
  },
  {
   "cell_type": "code",
   "execution_count": 105,
   "id": "7db108ca",
   "metadata": {},
   "outputs": [
    {
     "data": {
      "text/plain": [
       "array([20, 22, 25, 27, 37, 43, 43, 50, 53, 53, 56, 61, 69, 75, 78, 83, 85,\n",
       "       87, 90, 94])"
      ]
     },
     "execution_count": 105,
     "metadata": {},
     "output_type": "execute_result"
    }
   ],
   "source": [
    "np.sort(b)"
   ]
  },
  {
   "cell_type": "code",
   "execution_count": 106,
   "id": "04ce9833",
   "metadata": {},
   "outputs": [
    {
     "data": {
      "text/plain": [
       "array([94, 90, 87, 85, 83, 78, 75, 69, 61, 56, 53, 53, 50, 43, 43, 37, 27,\n",
       "       25, 22, 20])"
      ]
     },
     "execution_count": 106,
     "metadata": {},
     "output_type": "execute_result"
    }
   ],
   "source": [
    "np.sort(b)[::-1]"
   ]
  },
  {
   "cell_type": "code",
   "execution_count": 107,
   "id": "03d829fa",
   "metadata": {},
   "outputs": [],
   "source": [
    "#Matrices"
   ]
  },
  {
   "cell_type": "code",
   "execution_count": 108,
   "id": "800cf6fd",
   "metadata": {},
   "outputs": [],
   "source": [
    "A = np.array([\n",
    "    [1,2,3,4,5], \n",
    "    [10, 20, 30, 40, 50], \n",
    "    [100, 200, 300, 400, 500]\n",
    "    ])"
   ]
  },
  {
   "cell_type": "code",
   "execution_count": 109,
   "id": "07232155",
   "metadata": {},
   "outputs": [
    {
     "data": {
      "text/plain": [
       "array([[  1,   2,   3,   4,   5],\n",
       "       [ 10,  20,  30,  40,  50],\n",
       "       [100, 200, 300, 400, 500]])"
      ]
     },
     "execution_count": 109,
     "metadata": {},
     "output_type": "execute_result"
    }
   ],
   "source": [
    "A"
   ]
  },
  {
   "cell_type": "code",
   "execution_count": 110,
   "id": "9aca0d54",
   "metadata": {},
   "outputs": [
    {
     "data": {
      "text/plain": [
       "2"
      ]
     },
     "execution_count": 110,
     "metadata": {},
     "output_type": "execute_result"
    }
   ],
   "source": [
    "A.ndim"
   ]
  },
  {
   "cell_type": "code",
   "execution_count": 111,
   "id": "b5ccf708",
   "metadata": {},
   "outputs": [
    {
     "data": {
      "text/plain": [
       "(3, 5)"
      ]
     },
     "execution_count": 111,
     "metadata": {},
     "output_type": "execute_result"
    }
   ],
   "source": [
    "A.shape"
   ]
  },
  {
   "cell_type": "code",
   "execution_count": 112,
   "id": "b1e8e684",
   "metadata": {},
   "outputs": [
    {
     "data": {
      "text/plain": [
       "1"
      ]
     },
     "execution_count": 112,
     "metadata": {},
     "output_type": "execute_result"
    }
   ],
   "source": [
    "A[0][0]"
   ]
  },
  {
   "cell_type": "code",
   "execution_count": 113,
   "id": "21f465c6",
   "metadata": {},
   "outputs": [
    {
     "data": {
      "text/plain": [
       "30"
      ]
     },
     "execution_count": 113,
     "metadata": {},
     "output_type": "execute_result"
    }
   ],
   "source": [
    "A[1][2]"
   ]
  },
  {
   "cell_type": "code",
   "execution_count": 114,
   "id": "dab12be4",
   "metadata": {},
   "outputs": [
    {
     "data": {
      "text/plain": [
       "500"
      ]
     },
     "execution_count": 114,
     "metadata": {},
     "output_type": "execute_result"
    }
   ],
   "source": [
    "A[2][4]"
   ]
  },
  {
   "cell_type": "code",
   "execution_count": 115,
   "id": "4bcbff4e",
   "metadata": {},
   "outputs": [
    {
     "data": {
      "text/plain": [
       "1"
      ]
     },
     "execution_count": 115,
     "metadata": {},
     "output_type": "execute_result"
    }
   ],
   "source": [
    "A[0,0]"
   ]
  },
  {
   "cell_type": "code",
   "execution_count": 116,
   "id": "20db1730",
   "metadata": {},
   "outputs": [
    {
     "data": {
      "text/plain": [
       "30"
      ]
     },
     "execution_count": 116,
     "metadata": {},
     "output_type": "execute_result"
    }
   ],
   "source": [
    "A[1,2]"
   ]
  },
  {
   "cell_type": "code",
   "execution_count": 117,
   "id": "2a7a48c8",
   "metadata": {},
   "outputs": [
    {
     "data": {
      "text/plain": [
       "500"
      ]
     },
     "execution_count": 117,
     "metadata": {},
     "output_type": "execute_result"
    }
   ],
   "source": [
    "A[2,4]"
   ]
  },
  {
   "cell_type": "code",
   "execution_count": 118,
   "id": "0e3b19e6",
   "metadata": {},
   "outputs": [
    {
     "data": {
      "text/plain": [
       "array([[  1,   2,   3,   4,   5],\n",
       "       [ 10,  20,  30,  40,  50],\n",
       "       [100, 200, 300, 400, 500]])"
      ]
     },
     "execution_count": 118,
     "metadata": {},
     "output_type": "execute_result"
    }
   ],
   "source": [
    "A"
   ]
  },
  {
   "cell_type": "code",
   "execution_count": 119,
   "id": "a47abcd7",
   "metadata": {},
   "outputs": [
    {
     "data": {
      "text/plain": [
       "array([10, 20, 30])"
      ]
     },
     "execution_count": 119,
     "metadata": {},
     "output_type": "execute_result"
    }
   ],
   "source": [
    "A[1, :3]"
   ]
  },
  {
   "cell_type": "code",
   "execution_count": 120,
   "id": "42adf1aa",
   "metadata": {},
   "outputs": [
    {
     "data": {
      "text/plain": [
       "array([300, 400, 500])"
      ]
     },
     "execution_count": 120,
     "metadata": {},
     "output_type": "execute_result"
    }
   ],
   "source": [
    "A[2, 2:]"
   ]
  },
  {
   "cell_type": "code",
   "execution_count": 121,
   "id": "e6c063f5",
   "metadata": {},
   "outputs": [
    {
     "data": {
      "text/plain": [
       "array([1, 5])"
      ]
     },
     "execution_count": 121,
     "metadata": {},
     "output_type": "execute_result"
    }
   ],
   "source": [
    "A[0, [0, 4]]"
   ]
  },
  {
   "cell_type": "code",
   "execution_count": 122,
   "id": "08db26af",
   "metadata": {},
   "outputs": [
    {
     "data": {
      "text/plain": [
       "array([  4,  40, 400])"
      ]
     },
     "execution_count": 122,
     "metadata": {},
     "output_type": "execute_result"
    }
   ],
   "source": [
    "A[:, 3]"
   ]
  },
  {
   "cell_type": "code",
   "execution_count": 123,
   "id": "1ea45fb2",
   "metadata": {},
   "outputs": [
    {
     "data": {
      "text/plain": [
       "array([  5, 500])"
      ]
     },
     "execution_count": 123,
     "metadata": {},
     "output_type": "execute_result"
    }
   ],
   "source": [
    "A[[0, 2], 4]"
   ]
  },
  {
   "cell_type": "code",
   "execution_count": 124,
   "id": "f80a213e",
   "metadata": {},
   "outputs": [
    {
     "data": {
      "text/plain": [
       "(3, 5)"
      ]
     },
     "execution_count": 124,
     "metadata": {},
     "output_type": "execute_result"
    }
   ],
   "source": [
    "A.shape"
   ]
  },
  {
   "cell_type": "code",
   "execution_count": 125,
   "id": "acf0e2a5",
   "metadata": {},
   "outputs": [
    {
     "data": {
      "text/plain": [
       "157.21323099535866"
      ]
     },
     "execution_count": 125,
     "metadata": {},
     "output_type": "execute_result"
    }
   ],
   "source": [
    "A.std()"
   ]
  },
  {
   "cell_type": "code",
   "execution_count": 126,
   "id": "4a4a8247",
   "metadata": {},
   "outputs": [
    {
     "data": {
      "text/plain": [
       "1665"
      ]
     },
     "execution_count": 126,
     "metadata": {},
     "output_type": "execute_result"
    }
   ],
   "source": [
    "A.sum()"
   ]
  },
  {
   "cell_type": "code",
   "execution_count": 127,
   "id": "754b5f2b",
   "metadata": {},
   "outputs": [
    {
     "data": {
      "text/plain": [
       "1"
      ]
     },
     "execution_count": 127,
     "metadata": {},
     "output_type": "execute_result"
    }
   ],
   "source": [
    "A.min()"
   ]
  },
  {
   "cell_type": "code",
   "execution_count": 128,
   "id": "459da18b",
   "metadata": {},
   "outputs": [
    {
     "data": {
      "text/plain": [
       "500"
      ]
     },
     "execution_count": 128,
     "metadata": {},
     "output_type": "execute_result"
    }
   ],
   "source": [
    "A.max()"
   ]
  },
  {
   "cell_type": "code",
   "execution_count": 129,
   "id": "3bebeef2",
   "metadata": {},
   "outputs": [
    {
     "data": {
      "text/plain": [
       "111.0"
      ]
     },
     "execution_count": 129,
     "metadata": {},
     "output_type": "execute_result"
    }
   ],
   "source": [
    "A.mean()"
   ]
  },
  {
   "cell_type": "code",
   "execution_count": 130,
   "id": "92bf2627",
   "metadata": {},
   "outputs": [
    {
     "data": {
      "text/plain": [
       "array([[  1,   2,   3,   4,   5],\n",
       "       [ 10,  20,  30,  40,  50],\n",
       "       [100, 200, 300, 400, 500]])"
      ]
     },
     "execution_count": 130,
     "metadata": {},
     "output_type": "execute_result"
    }
   ],
   "source": [
    "A"
   ]
  },
  {
   "cell_type": "code",
   "execution_count": 131,
   "id": "b7a67655",
   "metadata": {},
   "outputs": [
    {
     "data": {
      "text/plain": [
       "array([  1,  10, 100])"
      ]
     },
     "execution_count": 131,
     "metadata": {},
     "output_type": "execute_result"
    }
   ],
   "source": [
    "A[:, 0]"
   ]
  },
  {
   "cell_type": "code",
   "execution_count": 132,
   "id": "f1ca9a97",
   "metadata": {},
   "outputs": [
    {
     "data": {
      "text/plain": [
       "array([1, 2, 3, 4, 5])"
      ]
     },
     "execution_count": 132,
     "metadata": {},
     "output_type": "execute_result"
    }
   ],
   "source": [
    "A[0, :]"
   ]
  },
  {
   "cell_type": "code",
   "execution_count": 133,
   "id": "0a9d2717",
   "metadata": {},
   "outputs": [
    {
     "data": {
      "text/plain": [
       "array([1])"
      ]
     },
     "execution_count": 133,
     "metadata": {},
     "output_type": "execute_result"
    }
   ],
   "source": [
    "A[0, :1]"
   ]
  },
  {
   "cell_type": "code",
   "execution_count": 134,
   "id": "def85d8f",
   "metadata": {},
   "outputs": [
    {
     "data": {
      "text/plain": [
       "array([[  1,  10, 100],\n",
       "       [  2,  20, 200],\n",
       "       [  3,  30, 300],\n",
       "       [  4,  40, 400],\n",
       "       [  5,  50, 500]])"
      ]
     },
     "execution_count": 134,
     "metadata": {},
     "output_type": "execute_result"
    }
   ],
   "source": [
    "A.transpose()"
   ]
  },
  {
   "cell_type": "code",
   "execution_count": 135,
   "id": "38ea1b11",
   "metadata": {},
   "outputs": [
    {
     "data": {
      "text/plain": [
       "array([[  1,   2,   3,   4,   5],\n",
       "       [ 10,  20,  30,  40,  50],\n",
       "       [100, 200, 300, 400, 500]])"
      ]
     },
     "execution_count": 135,
     "metadata": {},
     "output_type": "execute_result"
    }
   ],
   "source": [
    "A"
   ]
  },
  {
   "cell_type": "code",
   "execution_count": 136,
   "id": "b255778b",
   "metadata": {},
   "outputs": [
    {
     "data": {
      "text/plain": [
       "555"
      ]
     },
     "execution_count": 136,
     "metadata": {},
     "output_type": "execute_result"
    }
   ],
   "source": [
    "A[:, 4].sum()"
   ]
  },
  {
   "cell_type": "code",
   "execution_count": 137,
   "id": "69cb7cf9",
   "metadata": {},
   "outputs": [
    {
     "data": {
      "text/plain": [
       "555"
      ]
     },
     "execution_count": 137,
     "metadata": {},
     "output_type": "execute_result"
    }
   ],
   "source": [
    "A.T[4].sum()"
   ]
  },
  {
   "cell_type": "code",
   "execution_count": 138,
   "id": "a024c23b",
   "metadata": {},
   "outputs": [
    {
     "data": {
      "text/plain": [
       "(3, 5)"
      ]
     },
     "execution_count": 138,
     "metadata": {},
     "output_type": "execute_result"
    }
   ],
   "source": [
    "A.shape"
   ]
  },
  {
   "cell_type": "code",
   "execution_count": 139,
   "id": "8deb8192",
   "metadata": {},
   "outputs": [
    {
     "data": {
      "text/plain": [
       "(5, 3)"
      ]
     },
     "execution_count": 139,
     "metadata": {},
     "output_type": "execute_result"
    }
   ],
   "source": [
    "A.T.shape"
   ]
  },
  {
   "cell_type": "code",
   "execution_count": 140,
   "id": "b77d239b",
   "metadata": {},
   "outputs": [],
   "source": [
    "#Filtros\n",
    "a = np.random.randint(1,11, 50)"
   ]
  },
  {
   "cell_type": "code",
   "execution_count": 141,
   "id": "0b3a65b5",
   "metadata": {},
   "outputs": [
    {
     "data": {
      "text/plain": [
       "array([ 7,  5,  5, 10,  9,  7,  8,  4, 10,  3,  4,  3,  9,  5,  9,  3,  7,\n",
       "        5, 10,  9,  8,  2,  4,  3,  3,  4,  8,  7,  2,  9, 10, 10,  8,  7,\n",
       "        6,  5,  4,  1,  2,  4, 10,  6,  3,  9,  8,  9, 10,  7,  2,  6])"
      ]
     },
     "execution_count": 141,
     "metadata": {},
     "output_type": "execute_result"
    }
   ],
   "source": [
    "a"
   ]
  },
  {
   "cell_type": "code",
   "execution_count": 142,
   "id": "c6272a08",
   "metadata": {},
   "outputs": [
    {
     "data": {
      "text/plain": [
       "array([False, False, False, False, False, False, False, False, False,\n",
       "       False, False, False, False, False, False, False, False, False,\n",
       "       False, False, False, False, False, False, False, False, False,\n",
       "       False, False, False, False, False, False, False, False, False,\n",
       "       False, False, False, False, False, False, False, False, False,\n",
       "       False, False, False, False, False])"
      ]
     },
     "execution_count": 142,
     "metadata": {},
     "output_type": "execute_result"
    }
   ],
   "source": [
    "a > 50"
   ]
  },
  {
   "cell_type": "code",
   "execution_count": 143,
   "id": "491fb8a3",
   "metadata": {},
   "outputs": [],
   "source": [
    "a = np.random.randint(10, 101, 50)"
   ]
  },
  {
   "cell_type": "code",
   "execution_count": 144,
   "id": "4db1133b",
   "metadata": {},
   "outputs": [
    {
     "data": {
      "text/plain": [
       "array([ 96,  19,  97,  20,  10,  80,  37,  95,  32,  22,  95, 100,  55,\n",
       "        45,  63,  67,  52, 100,  19,  98,  82,  27,  11,  10,  32,  96,\n",
       "        27,  36,  71, 100,  10,  12,  39,  50,  34,  84,  87,  48,  56,\n",
       "        52,  99,  38,  35,  77,  13,  41,  39,  13,  70,  90])"
      ]
     },
     "execution_count": 144,
     "metadata": {},
     "output_type": "execute_result"
    }
   ],
   "source": [
    "a"
   ]
  },
  {
   "cell_type": "code",
   "execution_count": 145,
   "id": "00c2a172",
   "metadata": {},
   "outputs": [
    {
     "data": {
      "text/plain": [
       "array([ True, False,  True, False, False,  True, False,  True, False,\n",
       "       False,  True,  True,  True, False,  True,  True,  True,  True,\n",
       "       False,  True,  True, False, False, False, False,  True, False,\n",
       "       False,  True,  True, False, False, False, False, False,  True,\n",
       "        True, False,  True,  True,  True, False, False,  True, False,\n",
       "       False, False, False,  True,  True])"
      ]
     },
     "execution_count": 145,
     "metadata": {},
     "output_type": "execute_result"
    }
   ],
   "source": [
    "a > 50"
   ]
  },
  {
   "cell_type": "code",
   "execution_count": 146,
   "id": "88aa0ff1",
   "metadata": {},
   "outputs": [],
   "source": [
    "b = a > 50"
   ]
  },
  {
   "cell_type": "code",
   "execution_count": 147,
   "id": "abc6c8ae",
   "metadata": {},
   "outputs": [
    {
     "data": {
      "text/plain": [
       "array([ True, False,  True, False, False,  True, False,  True, False,\n",
       "       False,  True,  True,  True, False,  True,  True,  True,  True,\n",
       "       False,  True,  True, False, False, False, False,  True, False,\n",
       "       False,  True,  True, False, False, False, False, False,  True,\n",
       "        True, False,  True,  True,  True, False, False,  True, False,\n",
       "       False, False, False,  True,  True])"
      ]
     },
     "execution_count": 147,
     "metadata": {},
     "output_type": "execute_result"
    }
   ],
   "source": [
    "b"
   ]
  },
  {
   "cell_type": "code",
   "execution_count": 148,
   "id": "4fb83668",
   "metadata": {},
   "outputs": [],
   "source": [
    "c = a[b]"
   ]
  },
  {
   "cell_type": "code",
   "execution_count": 149,
   "id": "5a12ac52",
   "metadata": {},
   "outputs": [
    {
     "data": {
      "text/plain": [
       "array([ 96,  97,  80,  95,  95, 100,  55,  63,  67,  52, 100,  98,  82,\n",
       "        96,  71, 100,  84,  87,  56,  52,  99,  77,  70,  90])"
      ]
     },
     "execution_count": 149,
     "metadata": {},
     "output_type": "execute_result"
    }
   ],
   "source": [
    "c"
   ]
  },
  {
   "cell_type": "code",
   "execution_count": 150,
   "id": "ab55f7c9",
   "metadata": {},
   "outputs": [
    {
     "data": {
      "text/plain": [
       "False"
      ]
     },
     "execution_count": 150,
     "metadata": {},
     "output_type": "execute_result"
    }
   ],
   "source": [
    "np.all(a > 50)"
   ]
  },
  {
   "cell_type": "code",
   "execution_count": 151,
   "id": "56a894ca",
   "metadata": {},
   "outputs": [
    {
     "data": {
      "text/plain": [
       "True"
      ]
     },
     "execution_count": 151,
     "metadata": {},
     "output_type": "execute_result"
    }
   ],
   "source": [
    "np.all(a > 0)"
   ]
  },
  {
   "cell_type": "code",
   "execution_count": 152,
   "id": "4099e3f7",
   "metadata": {},
   "outputs": [
    {
     "data": {
      "text/plain": [
       "True"
      ]
     },
     "execution_count": 152,
     "metadata": {},
     "output_type": "execute_result"
    }
   ],
   "source": [
    "np.any((a >= 0) & (a <= 100))"
   ]
  },
  {
   "cell_type": "code",
   "execution_count": 153,
   "id": "ee169821",
   "metadata": {},
   "outputs": [
    {
     "data": {
      "text/plain": [
       "True"
      ]
     },
     "execution_count": 153,
     "metadata": {},
     "output_type": "execute_result"
    }
   ],
   "source": [
    "np.any(a > 10)"
   ]
  },
  {
   "cell_type": "code",
   "execution_count": 154,
   "id": "a08b0093",
   "metadata": {},
   "outputs": [
    {
     "data": {
      "text/plain": [
       "True"
      ]
     },
     "execution_count": 154,
     "metadata": {},
     "output_type": "execute_result"
    }
   ],
   "source": [
    "np.any(a = 10)"
   ]
  },
  {
   "cell_type": "code",
   "execution_count": 155,
   "id": "d99065ff",
   "metadata": {},
   "outputs": [],
   "source": [
    "calificaciones = np.array([7,8,5,6,9,10, 3, 5, 6, 8, 9, 10])"
   ]
  },
  {
   "cell_type": "code",
   "execution_count": 156,
   "id": "90f0be0e",
   "metadata": {},
   "outputs": [
    {
     "data": {
      "text/plain": [
       "array(['Felicidades', 'Felicidades', 'Lo sentimos, no aprobaste',\n",
       "       'Lo sentimos, no aprobaste', 'Felicidades', 'Felicidades',\n",
       "       'Lo sentimos, no aprobaste', 'Lo sentimos, no aprobaste',\n",
       "       'Lo sentimos, no aprobaste', 'Felicidades', 'Felicidades',\n",
       "       'Felicidades'], dtype='<U25')"
      ]
     },
     "execution_count": 156,
     "metadata": {},
     "output_type": "execute_result"
    }
   ],
   "source": [
    "np.where(calificaciones >= 7, 'Felicidades', 'Lo sentimos, no aprobaste')"
   ]
  },
  {
   "cell_type": "code",
   "execution_count": 157,
   "id": "4c0f8e42",
   "metadata": {},
   "outputs": [],
   "source": [
    "condicion = [(calificaciones == 10), ((calificaciones == 8) | (calificaciones == 9)), (calificaciones == 7), (calificaciones < 7)]"
   ]
  },
  {
   "cell_type": "code",
   "execution_count": 158,
   "id": "cd179877",
   "metadata": {},
   "outputs": [],
   "source": [
    "opciones = [\"Sacaste 10!!\", 'Felicidades', 'Aprobaste', 'Reprobaste, puto']"
   ]
  },
  {
   "cell_type": "code",
   "execution_count": 159,
   "id": "f44b416a",
   "metadata": {},
   "outputs": [
    {
     "data": {
      "text/plain": [
       "array(['Aprobaste', 'Felicidades', 'Reprobaste, puto', 'Reprobaste, puto',\n",
       "       'Felicidades', 'Sacaste 10!!', 'Reprobaste, puto',\n",
       "       'Reprobaste, puto', 'Reprobaste, puto', 'Felicidades',\n",
       "       'Felicidades', 'Sacaste 10!!'], dtype='<U21')"
      ]
     },
     "execution_count": 159,
     "metadata": {},
     "output_type": "execute_result"
    }
   ],
   "source": [
    "np.select(condicion, opciones)"
   ]
  },
  {
   "cell_type": "code",
   "execution_count": 161,
   "id": "a3383a8b",
   "metadata": {},
   "outputs": [],
   "source": [
    "a = np.random.randint(0, 10, 10)"
   ]
  },
  {
   "cell_type": "code",
   "execution_count": 162,
   "id": "e26b00c9",
   "metadata": {},
   "outputs": [
    {
     "data": {
      "text/plain": [
       "array([6, 6, 3, 2, 4, 8, 4, 9, 7, 9])"
      ]
     },
     "execution_count": 162,
     "metadata": {},
     "output_type": "execute_result"
    }
   ],
   "source": [
    "a"
   ]
  },
  {
   "cell_type": "code",
   "execution_count": 164,
   "id": "ef0dfa2b",
   "metadata": {},
   "outputs": [],
   "source": [
    "np.savetxt(\"arreglo.txt\", a)"
   ]
  },
  {
   "cell_type": "code",
   "execution_count": 165,
   "id": "9b572e1e",
   "metadata": {},
   "outputs": [
    {
     "name": "stdout",
     "output_type": "stream",
     "text": [
      "arreglo.txt  Numpy.ipynb\n"
     ]
    }
   ],
   "source": [
    "ls"
   ]
  },
  {
   "cell_type": "code",
   "execution_count": 166,
   "id": "4527bc01",
   "metadata": {},
   "outputs": [],
   "source": [
    "# %load arreglo.txt\n",
    "6.000000000000000000e+00\n",
    "6.000000000000000000e+00\n",
    "3.000000000000000000e+00\n",
    "2.000000000000000000e+00\n",
    "4.000000000000000000e+00\n",
    "8.000000000000000000e+00\n",
    "4.000000000000000000e+00\n",
    "9.000000000000000000e+00\n",
    "7.000000000000000000e+00\n",
    "9.000000000000000000e+00\n"
   ]
  },
  {
   "cell_type": "code",
   "execution_count": 167,
   "id": "acbc7f96",
   "metadata": {},
   "outputs": [
    {
     "data": {
      "text/plain": [
       "array([6, 6, 3, 2, 4, 8, 4, 9, 7, 9])"
      ]
     },
     "execution_count": 167,
     "metadata": {},
     "output_type": "execute_result"
    }
   ],
   "source": [
    "a"
   ]
  },
  {
   "cell_type": "code",
   "execution_count": 168,
   "id": "add1d416",
   "metadata": {},
   "outputs": [],
   "source": [
    "np.savetxt(\"arreglo.txt\", a, fmt = '%i')"
   ]
  },
  {
   "cell_type": "code",
   "execution_count": 169,
   "id": "5f7dbb23",
   "metadata": {},
   "outputs": [],
   "source": [
    "# %load arreglo.txt\n",
    "6\n",
    "6\n",
    "3\n",
    "2\n",
    "4\n",
    "8\n",
    "4\n",
    "9\n",
    "7\n",
    "9\n"
   ]
  },
  {
   "cell_type": "code",
   "execution_count": 170,
   "id": "0f7ee7aa",
   "metadata": {},
   "outputs": [
    {
     "data": {
      "text/plain": [
       "array([6., 6., 3., 2., 4., 8., 4., 9., 7., 9.])"
      ]
     },
     "execution_count": 170,
     "metadata": {},
     "output_type": "execute_result"
    }
   ],
   "source": [
    "np.loadtxt('arreglo.txt')"
   ]
  },
  {
   "cell_type": "code",
   "execution_count": 172,
   "id": "3dc540ef",
   "metadata": {},
   "outputs": [
    {
     "data": {
      "text/plain": [
       "dtype('float64')"
      ]
     },
     "execution_count": 172,
     "metadata": {},
     "output_type": "execute_result"
    }
   ],
   "source": [
    "np.loadtxt('arreglo.txt').dtype"
   ]
  },
  {
   "cell_type": "code",
   "execution_count": 174,
   "id": "df4b33a3",
   "metadata": {},
   "outputs": [],
   "source": [
    "b = np.loadtxt('arreglo.txt', dtype = int)"
   ]
  },
  {
   "cell_type": "code",
   "execution_count": 175,
   "id": "74e7be43",
   "metadata": {},
   "outputs": [],
   "source": [
    "c = a.reshape((2,5))"
   ]
  },
  {
   "cell_type": "code",
   "execution_count": 176,
   "id": "51027227",
   "metadata": {},
   "outputs": [
    {
     "data": {
      "text/plain": [
       "array([[6, 6, 3, 2, 4],\n",
       "       [8, 4, 9, 7, 9]])"
      ]
     },
     "execution_count": 176,
     "metadata": {},
     "output_type": "execute_result"
    }
   ],
   "source": [
    "c"
   ]
  },
  {
   "cell_type": "code",
   "execution_count": 183,
   "id": "02ada096",
   "metadata": {},
   "outputs": [],
   "source": [
    "np.savetxt(\"matrix.csv\", c, delimiter = ',' ,fmt = '%i')"
   ]
  },
  {
   "cell_type": "code",
   "execution_count": 184,
   "id": "60411eb4",
   "metadata": {},
   "outputs": [],
   "source": [
    "# %load matrix.csv\n",
    "6,6,3,2,4\n",
    "8,4,9,7,9\n"
   ]
  },
  {
   "cell_type": "code",
   "execution_count": 188,
   "id": "347bb427",
   "metadata": {},
   "outputs": [],
   "source": [
    "d = np.loadtxt(\"matrix.csv\", delimiter = ',', dtype = int)"
   ]
  },
  {
   "cell_type": "code",
   "execution_count": 189,
   "id": "4fc1c1f6",
   "metadata": {},
   "outputs": [
    {
     "data": {
      "text/plain": [
       "array([[6, 6, 3, 2, 4],\n",
       "       [8, 4, 9, 7, 9]])"
      ]
     },
     "execution_count": 189,
     "metadata": {},
     "output_type": "execute_result"
    }
   ],
   "source": [
    "d"
   ]
  },
  {
   "cell_type": "code",
   "execution_count": 190,
   "id": "333f26fc",
   "metadata": {},
   "outputs": [],
   "source": [
    "np.save(\"arreglo_bin.npy\", a)"
   ]
  },
  {
   "cell_type": "code",
   "execution_count": 192,
   "id": "c6eeb46c",
   "metadata": {},
   "outputs": [],
   "source": [
    "e = np.load(\"arreglo_bin.npy\")"
   ]
  },
  {
   "cell_type": "code",
   "execution_count": 193,
   "id": "95056f62",
   "metadata": {},
   "outputs": [
    {
     "data": {
      "text/plain": [
       "array([6, 6, 3, 2, 4, 8, 4, 9, 7, 9])"
      ]
     },
     "execution_count": 193,
     "metadata": {},
     "output_type": "execute_result"
    }
   ],
   "source": [
    "e"
   ]
  },
  {
   "cell_type": "code",
   "execution_count": 194,
   "id": "12065cf5",
   "metadata": {},
   "outputs": [],
   "source": [
    "e_v = e.view()"
   ]
  },
  {
   "cell_type": "code",
   "execution_count": 195,
   "id": "4f7ab661",
   "metadata": {},
   "outputs": [
    {
     "data": {
      "text/plain": [
       "array([6, 6, 3, 2, 4, 8, 4, 9, 7, 9])"
      ]
     },
     "execution_count": 195,
     "metadata": {},
     "output_type": "execute_result"
    }
   ],
   "source": [
    "e_v"
   ]
  },
  {
   "cell_type": "code",
   "execution_count": 196,
   "id": "69194316",
   "metadata": {},
   "outputs": [],
   "source": [
    "e = e.reshape((2, 5))"
   ]
  },
  {
   "cell_type": "code",
   "execution_count": 197,
   "id": "8358b0b1",
   "metadata": {},
   "outputs": [
    {
     "data": {
      "text/plain": [
       "array([[6, 6, 3, 2, 4],\n",
       "       [8, 4, 9, 7, 9]])"
      ]
     },
     "execution_count": 197,
     "metadata": {},
     "output_type": "execute_result"
    }
   ],
   "source": [
    "e"
   ]
  },
  {
   "cell_type": "code",
   "execution_count": 198,
   "id": "2fd6ad0c",
   "metadata": {},
   "outputs": [
    {
     "data": {
      "text/plain": [
       "array([6, 6, 3, 2, 4, 8, 4, 9, 7, 9])"
      ]
     },
     "execution_count": 198,
     "metadata": {},
     "output_type": "execute_result"
    }
   ],
   "source": [
    "e_v"
   ]
  },
  {
   "cell_type": "code",
   "execution_count": null,
   "id": "a5d4290f",
   "metadata": {},
   "outputs": [],
   "source": []
  },
  {
   "cell_type": "code",
   "execution_count": null,
   "id": "8c0184a6",
   "metadata": {},
   "outputs": [],
   "source": []
  },
  {
   "cell_type": "code",
   "execution_count": null,
   "id": "e5ca760f",
   "metadata": {},
   "outputs": [],
   "source": []
  }
 ],
 "metadata": {
  "interpreter": {
   "hash": "6833b3556e9f219de74e77b1bcd6bb6116d8db57b405927afc38b4936e200710"
  },
  "kernelspec": {
   "display_name": "dss",
   "language": "python",
   "name": "python3"
  },
  "language_info": {
   "codemirror_mode": {
    "name": "ipython",
    "version": 3
   },
   "file_extension": ".py",
   "mimetype": "text/x-python",
   "name": "python",
   "nbconvert_exporter": "python",
   "pygments_lexer": "ipython3",
   "version": "3.8.10"
  }
 },
 "nbformat": 4,
 "nbformat_minor": 5
}
