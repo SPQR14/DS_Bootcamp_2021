{
 "cells": [
  {
   "cell_type": "code",
   "execution_count": 12,
   "id": "4bc1d52a",
   "metadata": {},
   "outputs": [],
   "source": [
    "import numpy as np"
   ]
  },
  {
   "cell_type": "code",
   "execution_count": 13,
   "id": "403d7e23",
   "metadata": {},
   "outputs": [
    {
     "data": {
      "text/plain": [
       "array([ 0,  1,  2,  3,  4,  5,  6,  7,  8,  9, 10, 11, 12, 13, 14, 15, 16,\n",
       "       17, 18, 19, 20, 21, 22, 23, 24, 25, 26, 27, 28, 29, 30, 31, 32, 33,\n",
       "       34, 35, 36, 37, 38, 39, 40, 41, 42, 43, 44, 45, 46, 47, 48, 49, 50,\n",
       "       51, 52, 53, 54, 55, 56, 57, 58, 59, 60, 61, 62, 63, 64, 65, 66, 67,\n",
       "       68, 69, 70, 71, 72, 73, 74, 75, 76, 77, 78, 79, 80, 81, 82, 83, 84,\n",
       "       85, 86, 87, 88, 89, 90, 91, 92, 93, 94, 95, 96, 97, 98, 99])"
      ]
     },
     "execution_count": 13,
     "metadata": {},
     "output_type": "execute_result"
    }
   ],
   "source": [
    "np.array([x for x in range(0,100)])"
   ]
  },
  {
   "cell_type": "code",
   "execution_count": 14,
   "id": "6848d70a",
   "metadata": {},
   "outputs": [],
   "source": [
    "a = np.array([x for x in range(1,6)])"
   ]
  },
  {
   "cell_type": "code",
   "execution_count": 15,
   "id": "ec3a3f0b",
   "metadata": {},
   "outputs": [
    {
     "data": {
      "text/plain": [
       "numpy.ndarray"
      ]
     },
     "execution_count": 15,
     "metadata": {},
     "output_type": "execute_result"
    }
   ],
   "source": [
    "type(a)"
   ]
  },
  {
   "cell_type": "code",
   "execution_count": 16,
   "id": "480b2f4b",
   "metadata": {},
   "outputs": [
    {
     "data": {
      "text/plain": [
       "5"
      ]
     },
     "execution_count": 16,
     "metadata": {},
     "output_type": "execute_result"
    }
   ],
   "source": [
    "a.size"
   ]
  },
  {
   "cell_type": "code",
   "execution_count": 17,
   "id": "76a42aa3",
   "metadata": {},
   "outputs": [
    {
     "data": {
      "text/plain": [
       "array([1, 2, 3, 4, 5])"
      ]
     },
     "execution_count": 17,
     "metadata": {},
     "output_type": "execute_result"
    }
   ],
   "source": [
    "a"
   ]
  },
  {
   "cell_type": "code",
   "execution_count": 18,
   "id": "558160b7",
   "metadata": {},
   "outputs": [
    {
     "data": {
      "text/plain": [
       "1"
      ]
     },
     "execution_count": 18,
     "metadata": {},
     "output_type": "execute_result"
    }
   ],
   "source": [
    "a.ndim"
   ]
  },
  {
   "cell_type": "code",
   "execution_count": 19,
   "id": "f730cd24",
   "metadata": {},
   "outputs": [
    {
     "data": {
      "text/plain": [
       "dtype('int64')"
      ]
     },
     "execution_count": 19,
     "metadata": {},
     "output_type": "execute_result"
    }
   ],
   "source": [
    "a.dtype"
   ]
  },
  {
   "cell_type": "code",
   "execution_count": 20,
   "id": "c9b24a9f",
   "metadata": {},
   "outputs": [
    {
     "data": {
      "text/plain": [
       "(5,)"
      ]
     },
     "execution_count": 20,
     "metadata": {},
     "output_type": "execute_result"
    }
   ],
   "source": [
    "a.shape"
   ]
  },
  {
   "cell_type": "code",
   "execution_count": 24,
   "id": "b85a34f8",
   "metadata": {},
   "outputs": [],
   "source": [
    "b = np.array([[x for x in range(1, 11)], [x for x in range(1, 11)], [x for x in range(1, 11)]])"
   ]
  },
  {
   "cell_type": "code",
   "execution_count": 25,
   "id": "0ea81412",
   "metadata": {},
   "outputs": [
    {
     "data": {
      "text/plain": [
       "(3, 10)"
      ]
     },
     "execution_count": 25,
     "metadata": {},
     "output_type": "execute_result"
    }
   ],
   "source": [
    "b.shape"
   ]
  },
  {
   "cell_type": "code",
   "execution_count": 26,
   "id": "97e1fd86",
   "metadata": {},
   "outputs": [
    {
     "data": {
      "text/plain": [
       "2"
      ]
     },
     "execution_count": 26,
     "metadata": {},
     "output_type": "execute_result"
    }
   ],
   "source": [
    "b.ndim"
   ]
  },
  {
   "cell_type": "code",
   "execution_count": 27,
   "id": "3735227a",
   "metadata": {},
   "outputs": [
    {
     "data": {
      "text/plain": [
       "30"
      ]
     },
     "execution_count": 27,
     "metadata": {},
     "output_type": "execute_result"
    }
   ],
   "source": [
    "b.size"
   ]
  },
  {
   "cell_type": "code",
   "execution_count": 28,
   "id": "27e6546f",
   "metadata": {},
   "outputs": [
    {
     "data": {
      "text/plain": [
       "array([[ 1,  2,  3,  4,  5,  6,  7,  8,  9, 10],\n",
       "       [ 1,  2,  3,  4,  5,  6,  7,  8,  9, 10],\n",
       "       [ 1,  2,  3,  4,  5,  6,  7,  8,  9, 10]])"
      ]
     },
     "execution_count": 28,
     "metadata": {},
     "output_type": "execute_result"
    }
   ],
   "source": [
    "b"
   ]
  },
  {
   "cell_type": "code",
   "execution_count": 29,
   "id": "9d2f3233",
   "metadata": {},
   "outputs": [
    {
     "data": {
      "text/plain": [
       "array([11, 12, 13, 14, 15])"
      ]
     },
     "execution_count": 29,
     "metadata": {},
     "output_type": "execute_result"
    }
   ],
   "source": [
    "a + 10"
   ]
  },
  {
   "cell_type": "code",
   "execution_count": 31,
   "id": "22271528",
   "metadata": {},
   "outputs": [
    {
     "data": {
      "text/plain": [
       "array([[ 3,  6,  9, 12, 15, 18, 21, 24, 27, 30],\n",
       "       [ 3,  6,  9, 12, 15, 18, 21, 24, 27, 30],\n",
       "       [ 3,  6,  9, 12, 15, 18, 21, 24, 27, 30]])"
      ]
     },
     "execution_count": 31,
     "metadata": {},
     "output_type": "execute_result"
    }
   ],
   "source": [
    "np.multiply(b, 3)"
   ]
  },
  {
   "cell_type": "code",
   "execution_count": 32,
   "id": "20abe1b1",
   "metadata": {},
   "outputs": [],
   "source": [
    "b = np.array([6, 7, 8, 9, 10])"
   ]
  },
  {
   "cell_type": "code",
   "execution_count": 33,
   "id": "4f07b15b",
   "metadata": {},
   "outputs": [
    {
     "data": {
      "text/plain": [
       "array([ 7,  9, 11, 13, 15])"
      ]
     },
     "execution_count": 33,
     "metadata": {},
     "output_type": "execute_result"
    }
   ],
   "source": [
    "a + b"
   ]
  },
  {
   "cell_type": "code",
   "execution_count": 34,
   "id": "b353d6ac",
   "metadata": {},
   "outputs": [
    {
     "data": {
      "text/plain": [
       "array([-5, -5, -5, -5, -5])"
      ]
     },
     "execution_count": 34,
     "metadata": {},
     "output_type": "execute_result"
    }
   ],
   "source": [
    "a - b"
   ]
  },
  {
   "cell_type": "code",
   "execution_count": 35,
   "id": "49b9b527",
   "metadata": {},
   "outputs": [],
   "source": [
    "a = np.array([1,2,3,4,5])"
   ]
  },
  {
   "cell_type": "code",
   "execution_count": 36,
   "id": "5c54503e",
   "metadata": {},
   "outputs": [
    {
     "data": {
      "text/plain": [
       "dtype('int64')"
      ]
     },
     "execution_count": 36,
     "metadata": {},
     "output_type": "execute_result"
    }
   ],
   "source": [
    "a.dtype"
   ]
  },
  {
   "cell_type": "code",
   "execution_count": 37,
   "id": "047d7ddf",
   "metadata": {},
   "outputs": [],
   "source": [
    "a = np.array([1, 2, 3, 4, 5], dtype = float)"
   ]
  },
  {
   "cell_type": "code",
   "execution_count": 38,
   "id": "6db4d43d",
   "metadata": {},
   "outputs": [
    {
     "data": {
      "text/plain": [
       "array([1., 2., 3., 4., 5.])"
      ]
     },
     "execution_count": 38,
     "metadata": {},
     "output_type": "execute_result"
    }
   ],
   "source": [
    "a"
   ]
  },
  {
   "cell_type": "code",
   "execution_count": 39,
   "id": "40de4383",
   "metadata": {},
   "outputs": [
    {
     "data": {
      "text/plain": [
       "array([ True,  True, False])"
      ]
     },
     "execution_count": 39,
     "metadata": {},
     "output_type": "execute_result"
    }
   ],
   "source": [
    "np.array([True, True, False])"
   ]
  },
  {
   "cell_type": "code",
   "execution_count": 44,
   "id": "e0834d88",
   "metadata": {},
   "outputs": [
    {
     "data": {
      "text/plain": [
       "array([  1,   2,   3,   4,   5,   6,   7,   8,   9,  10,  11,  12,  13,\n",
       "        14,  15,  16,  17,  18,  19,  20,  21,  22,  23,  24,  25,  26,\n",
       "        27,  28,  29,  30,  31,  32,  33,  34,  35,  36,  37,  38,  39,\n",
       "        40,  41,  42,  43,  44,  45,  46,  47,  48,  49,  50,  51,  52,\n",
       "        53,  54,  55,  56,  57,  58,  59,  60,  61,  62,  63,  64,  65,\n",
       "        66,  67,  68,  69,  70,  71,  72,  73,  74,  75,  76,  77,  78,\n",
       "        79,  80,  81,  82,  83,  84,  85,  86,  87,  88,  89,  90,  91,\n",
       "        92,  93,  94,  95,  96,  97,  98,  99, 100])"
      ]
     },
     "execution_count": 44,
     "metadata": {},
     "output_type": "execute_result"
    }
   ],
   "source": [
    "np.arange(1, 101)"
   ]
  },
  {
   "cell_type": "code",
   "execution_count": 45,
   "id": "075dc108",
   "metadata": {},
   "outputs": [
    {
     "data": {
      "text/plain": [
       "array([ 1,  3,  5,  7,  9, 11, 13, 15, 17, 19, 21, 23, 25, 27, 29, 31, 33,\n",
       "       35, 37, 39, 41, 43, 45, 47, 49, 51, 53, 55, 57, 59, 61, 63, 65, 67,\n",
       "       69, 71, 73, 75, 77, 79, 81, 83, 85, 87, 89, 91, 93, 95, 97, 99])"
      ]
     },
     "execution_count": 45,
     "metadata": {},
     "output_type": "execute_result"
    }
   ],
   "source": [
    "np.arange(1, 101, 2)"
   ]
  },
  {
   "cell_type": "code",
   "execution_count": 46,
   "id": "8a06eb13",
   "metadata": {},
   "outputs": [
    {
     "data": {
      "text/plain": [
       "array([0., 0., 0., 0., 0., 0., 0., 0., 0., 0.])"
      ]
     },
     "execution_count": 46,
     "metadata": {},
     "output_type": "execute_result"
    }
   ],
   "source": [
    "np.zeros(10)"
   ]
  },
  {
   "cell_type": "code",
   "execution_count": 47,
   "id": "3e6f6fdb",
   "metadata": {},
   "outputs": [
    {
     "data": {
      "text/plain": [
       "array([0, 0, 0, 0, 0, 0, 0, 0, 0, 0])"
      ]
     },
     "execution_count": 47,
     "metadata": {},
     "output_type": "execute_result"
    }
   ],
   "source": [
    "np.zeros(10, dtype = int)"
   ]
  },
  {
   "cell_type": "code",
   "execution_count": 49,
   "id": "787c43de",
   "metadata": {},
   "outputs": [
    {
     "data": {
      "text/plain": [
       "array([1, 1, 1, 1, 1, 1, 1, 1, 1, 1])"
      ]
     },
     "execution_count": 49,
     "metadata": {},
     "output_type": "execute_result"
    }
   ],
   "source": [
    "np.ones(10, dtype = int)"
   ]
  },
  {
   "cell_type": "code",
   "execution_count": 51,
   "id": "6602578e",
   "metadata": {},
   "outputs": [
    {
     "data": {
      "text/plain": [
       "array([4.67714488e-310, 0.00000000e+000, 0.00000000e+000, 0.00000000e+000,\n",
       "       6.94762642e-310, 8.32236056e-071, 3.27044296e+179, 6.81737931e-091,\n",
       "       8.84195564e+165, 6.94767385e-310])"
      ]
     },
     "execution_count": 51,
     "metadata": {},
     "output_type": "execute_result"
    }
   ],
   "source": [
    "np.empty(10)"
   ]
  },
  {
   "cell_type": "code",
   "execution_count": 62,
   "id": "9a6b1cfc",
   "metadata": {},
   "outputs": [
    {
     "data": {
      "text/plain": [
       "array([12, 24,  3, 21,  9,  3,  6, 23, 21, 19,  5,  5, 20, 27,  8, 15,  5,\n",
       "       19, 19, 11,  7,  6,  3,  3, 15,  4,  9,  9,  6,  4,  6,  5,  1,  8,\n",
       "       20, 24, 12,  8,  2, 10, 27, 23,  3, 20,  4,  5, 15, 17, 22, 10])"
      ]
     },
     "execution_count": 62,
     "metadata": {},
     "output_type": "execute_result"
    }
   ],
   "source": [
    "np.random.randint(1, 28, 50)"
   ]
  },
  {
   "cell_type": "code",
   "execution_count": 64,
   "id": "40d47fbe",
   "metadata": {},
   "outputs": [
    {
     "data": {
      "text/plain": [
       "array([4.67714488e-310, 0.00000000e+000, 0.00000000e+000, 0.00000000e+000,\n",
       "       6.94762642e-310, 8.32236056e-071, 3.27044296e+179, 6.81737931e-091,\n",
       "       8.84195564e+165, 6.94767385e-310])"
      ]
     },
     "execution_count": 64,
     "metadata": {},
     "output_type": "execute_result"
    }
   ],
   "source": [
    "np.empty(10)"
   ]
  },
  {
   "cell_type": "code",
   "execution_count": 65,
   "id": "51855eec",
   "metadata": {},
   "outputs": [],
   "source": [
    "a = np.random.randint(0, 10, 10)"
   ]
  },
  {
   "cell_type": "code",
   "execution_count": 66,
   "id": "6fafef34",
   "metadata": {},
   "outputs": [
    {
     "data": {
      "text/plain": [
       "array([4, 2, 9, 9, 3, 8, 2, 0, 8, 2])"
      ]
     },
     "execution_count": 66,
     "metadata": {},
     "output_type": "execute_result"
    }
   ],
   "source": [
    "a"
   ]
  },
  {
   "cell_type": "code",
   "execution_count": 68,
   "id": "f6a3ee83",
   "metadata": {},
   "outputs": [
    {
     "data": {
      "text/plain": [
       "array([4, 2, 9])"
      ]
     },
     "execution_count": 68,
     "metadata": {},
     "output_type": "execute_result"
    }
   ],
   "source": [
    "a[0:3]"
   ]
  },
  {
   "cell_type": "code",
   "execution_count": 69,
   "id": "b9d3c857",
   "metadata": {},
   "outputs": [
    {
     "data": {
      "text/plain": [
       "array([3, 8, 2, 0, 8, 2])"
      ]
     },
     "execution_count": 69,
     "metadata": {},
     "output_type": "execute_result"
    }
   ],
   "source": [
    "a[-6:]"
   ]
  },
  {
   "cell_type": "code",
   "execution_count": 70,
   "id": "93f111cc",
   "metadata": {},
   "outputs": [],
   "source": [
    "a[0] = 19"
   ]
  },
  {
   "cell_type": "code",
   "execution_count": 71,
   "id": "2a0cc23c",
   "metadata": {},
   "outputs": [
    {
     "data": {
      "text/plain": [
       "array([19,  2,  9,  9,  3,  8,  2,  0,  8,  2])"
      ]
     },
     "execution_count": 71,
     "metadata": {},
     "output_type": "execute_result"
    }
   ],
   "source": [
    "a"
   ]
  },
  {
   "cell_type": "code",
   "execution_count": 72,
   "id": "66c2dbc4",
   "metadata": {},
   "outputs": [],
   "source": [
    "a = np.random.randint(0, 100, 20)"
   ]
  },
  {
   "cell_type": "code",
   "execution_count": 73,
   "id": "fab662f2",
   "metadata": {},
   "outputs": [
    {
     "data": {
      "text/plain": [
       "array([34, 21, 62, 95, 98, 53, 17, 41, 70, 25, 76, 98, 20, 53,  7, 37, 10,\n",
       "       60, 35, 29])"
      ]
     },
     "execution_count": 73,
     "metadata": {},
     "output_type": "execute_result"
    }
   ],
   "source": [
    "a"
   ]
  },
  {
   "cell_type": "code",
   "execution_count": 75,
   "id": "3ad77ccb",
   "metadata": {},
   "outputs": [
    {
     "data": {
      "text/plain": [
       "array([34, 21, 62, 95, 98])"
      ]
     },
     "execution_count": 75,
     "metadata": {},
     "output_type": "execute_result"
    }
   ],
   "source": [
    "a[:5]"
   ]
  },
  {
   "cell_type": "code",
   "execution_count": 78,
   "id": "78cdb849",
   "metadata": {},
   "outputs": [
    {
     "data": {
      "text/plain": [
       "array([34, 21, 62, 95, 98, 53, 17, 41, 70, 25])"
      ]
     },
     "execution_count": 78,
     "metadata": {},
     "output_type": "execute_result"
    }
   ],
   "source": [
    "#a[start, end, hops]\n",
    "a[:10]"
   ]
  },
  {
   "cell_type": "code",
   "execution_count": 79,
   "id": "5771ae4e",
   "metadata": {},
   "outputs": [
    {
     "data": {
      "text/plain": [
       "34"
      ]
     },
     "execution_count": 79,
     "metadata": {},
     "output_type": "execute_result"
    }
   ],
   "source": [
    "a[0]"
   ]
  },
  {
   "cell_type": "code",
   "execution_count": 80,
   "id": "9f6540c4",
   "metadata": {},
   "outputs": [
    {
     "data": {
      "text/plain": [
       "21"
      ]
     },
     "execution_count": 80,
     "metadata": {},
     "output_type": "execute_result"
    }
   ],
   "source": [
    "a[1]"
   ]
  },
  {
   "cell_type": "code",
   "execution_count": 81,
   "id": "4bf97584",
   "metadata": {},
   "outputs": [
    {
     "data": {
      "text/plain": [
       "95"
      ]
     },
     "execution_count": 81,
     "metadata": {},
     "output_type": "execute_result"
    }
   ],
   "source": [
    "a[3]"
   ]
  },
  {
   "cell_type": "code",
   "execution_count": 82,
   "id": "6b69f347",
   "metadata": {},
   "outputs": [
    {
     "data": {
      "text/plain": [
       "array([34, 98, 41, 53])"
      ]
     },
     "execution_count": 82,
     "metadata": {},
     "output_type": "execute_result"
    }
   ],
   "source": [
    "a[[0,4,7,5]]"
   ]
  },
  {
   "cell_type": "code",
   "execution_count": 83,
   "id": "8a3e26e1",
   "metadata": {},
   "outputs": [],
   "source": [
    "b = np.array([1,2,3,4,5])"
   ]
  },
  {
   "cell_type": "code",
   "execution_count": 84,
   "id": "9ff28987",
   "metadata": {},
   "outputs": [
    {
     "data": {
      "text/plain": [
       "array([1, 2, 3, 4, 5])"
      ]
     },
     "execution_count": 84,
     "metadata": {},
     "output_type": "execute_result"
    }
   ],
   "source": [
    "b"
   ]
  },
  {
   "cell_type": "code",
   "execution_count": 85,
   "id": "d1d4503f",
   "metadata": {},
   "outputs": [
    {
     "data": {
      "text/plain": [
       "array([1, 2, 4])"
      ]
     },
     "execution_count": 85,
     "metadata": {},
     "output_type": "execute_result"
    }
   ],
   "source": [
    "b[[True, True, False, True, False]]"
   ]
  },
  {
   "cell_type": "code",
   "execution_count": 86,
   "id": "c0298dec",
   "metadata": {},
   "outputs": [],
   "source": [
    "a = np.random.randint(1, 100, 100)"
   ]
  },
  {
   "cell_type": "code",
   "execution_count": 87,
   "id": "d82d4f76",
   "metadata": {},
   "outputs": [
    {
     "data": {
      "text/plain": [
       "array([ 4, 95, 35, 54,  7, 24, 15, 67,  7, 53, 28, 29, 90, 86, 46, 84, 89,\n",
       "       45, 77, 29, 22, 71,  9, 71, 70, 86, 25, 87, 50, 82, 35, 97,  1, 85,\n",
       "        4, 42, 70, 43, 91, 12, 89, 64, 25, 69, 88, 94, 96, 14, 94, 15, 36,\n",
       "       77, 62, 13, 90, 32, 40,  5, 91, 81, 10, 14, 30, 63, 48, 98, 99, 80,\n",
       "        3,  5, 93, 72, 57,  7, 24, 64, 24, 53,  1, 92, 30, 13, 64, 53, 22,\n",
       "       81, 98, 72, 65, 48, 49, 62, 18, 40, 45, 47, 89, 72,  6, 82])"
      ]
     },
     "execution_count": 87,
     "metadata": {},
     "output_type": "execute_result"
    }
   ],
   "source": [
    "a"
   ]
  },
  {
   "cell_type": "code",
   "execution_count": 89,
   "id": "aced59c6",
   "metadata": {},
   "outputs": [],
   "source": [
    "def operacion(valor):\n",
    "    \"\"\"Eleva al cuadrado el argumento recibido por valor y le suma dos\"\"\"\n",
    "    return (valor ** 2) + 2"
   ]
  },
  {
   "cell_type": "code",
   "execution_count": 91,
   "id": "2df000c7",
   "metadata": {},
   "outputs": [
    {
     "name": "stdout",
     "output_type": "stream",
     "text": [
      "18\n",
      "9027\n",
      "1227\n",
      "2918\n",
      "51\n",
      "578\n",
      "227\n",
      "4491\n",
      "51\n",
      "2811\n",
      "786\n",
      "843\n",
      "8102\n",
      "7398\n",
      "2118\n",
      "7058\n",
      "7923\n",
      "2027\n",
      "5931\n",
      "843\n",
      "486\n",
      "5043\n",
      "83\n",
      "5043\n",
      "4902\n",
      "7398\n",
      "627\n",
      "7571\n",
      "2502\n",
      "6726\n",
      "1227\n",
      "9411\n",
      "3\n",
      "7227\n",
      "18\n",
      "1766\n",
      "4902\n",
      "1851\n",
      "8283\n",
      "146\n",
      "7923\n",
      "4098\n",
      "627\n",
      "4763\n",
      "7746\n",
      "8838\n",
      "9218\n",
      "198\n",
      "8838\n",
      "227\n",
      "1298\n",
      "5931\n",
      "3846\n",
      "171\n",
      "8102\n",
      "1026\n",
      "1602\n",
      "27\n",
      "8283\n",
      "6563\n",
      "102\n",
      "198\n",
      "902\n",
      "3971\n",
      "2306\n",
      "9606\n",
      "9803\n",
      "6402\n",
      "11\n",
      "27\n",
      "8651\n",
      "5186\n",
      "3251\n",
      "51\n",
      "578\n",
      "4098\n",
      "578\n",
      "2811\n",
      "3\n",
      "8466\n",
      "902\n",
      "171\n",
      "4098\n",
      "2811\n",
      "486\n",
      "6563\n",
      "9606\n",
      "5186\n",
      "4227\n",
      "2306\n",
      "2403\n",
      "3846\n",
      "326\n",
      "1602\n",
      "2027\n",
      "2211\n",
      "7923\n",
      "5186\n",
      "38\n",
      "6726\n"
     ]
    }
   ],
   "source": [
    "for valor in a:\n",
    "    print(operacion(valor))"
   ]
  },
  {
   "cell_type": "code",
   "execution_count": 92,
   "id": "cf5f2070",
   "metadata": {},
   "outputs": [],
   "source": [
    "vector = np.vectorize(operacion)"
   ]
  },
  {
   "cell_type": "code",
   "execution_count": 93,
   "id": "b6a1de65",
   "metadata": {},
   "outputs": [
    {
     "data": {
      "text/plain": [
       "array([  18, 9027, 1227, 2918,   51,  578,  227, 4491,   51, 2811,  786,\n",
       "        843, 8102, 7398, 2118, 7058, 7923, 2027, 5931,  843,  486, 5043,\n",
       "         83, 5043, 4902, 7398,  627, 7571, 2502, 6726, 1227, 9411,    3,\n",
       "       7227,   18, 1766, 4902, 1851, 8283,  146, 7923, 4098,  627, 4763,\n",
       "       7746, 8838, 9218,  198, 8838,  227, 1298, 5931, 3846,  171, 8102,\n",
       "       1026, 1602,   27, 8283, 6563,  102,  198,  902, 3971, 2306, 9606,\n",
       "       9803, 6402,   11,   27, 8651, 5186, 3251,   51,  578, 4098,  578,\n",
       "       2811,    3, 8466,  902,  171, 4098, 2811,  486, 6563, 9606, 5186,\n",
       "       4227, 2306, 2403, 3846,  326, 1602, 2027, 2211, 7923, 5186,   38,\n",
       "       6726])"
      ]
     },
     "execution_count": 93,
     "metadata": {},
     "output_type": "execute_result"
    }
   ],
   "source": [
    "vector(a)"
   ]
  },
  {
   "cell_type": "code",
   "execution_count": 94,
   "id": "33678749",
   "metadata": {},
   "outputs": [],
   "source": [
    "vector = np.vectorize(lambda valor: (valor ** 3 ) + 2)"
   ]
  },
  {
   "cell_type": "code",
   "execution_count": 95,
   "id": "7660fe66",
   "metadata": {},
   "outputs": [
    {
     "data": {
      "text/plain": [
       "array([    66, 857377,  42877, 157466,    345,  13826,   3377, 300765,\n",
       "          345, 148879,  21954,  24391, 729002, 636058,  97338, 592706,\n",
       "       704971,  91127, 456535,  24391,  10650, 357913,    731, 357913,\n",
       "       343002, 636058,  15627, 658505, 125002, 551370,  42877, 912675,\n",
       "            3, 614127,     66,  74090, 343002,  79509, 753573,   1730,\n",
       "       704971, 262146,  15627, 328511, 681474, 830586, 884738,   2746,\n",
       "       830586,   3377,  46658, 456535, 238330,   2199, 729002,  32770,\n",
       "        64002,    127, 753573, 531443,   1002,   2746,  27002, 250049,\n",
       "       110594, 941194, 970301, 512002,     29,    127, 804359, 373250,\n",
       "       185195,    345,  13826, 262146,  13826, 148879,      3, 778690,\n",
       "        27002,   2199, 262146, 148879,  10650, 531443, 941194, 373250,\n",
       "       274627, 110594, 117651, 238330,   5834,  64002,  91127, 103825,\n",
       "       704971, 373250,    218, 551370])"
      ]
     },
     "execution_count": 95,
     "metadata": {},
     "output_type": "execute_result"
    }
   ],
   "source": [
    "vector(a)"
   ]
  },
  {
   "cell_type": "code",
   "execution_count": null,
   "id": "9183dc95",
   "metadata": {},
   "outputs": [],
   "source": []
  }
 ],
 "metadata": {
  "interpreter": {
   "hash": "6833b3556e9f219de74e77b1bcd6bb6116d8db57b405927afc38b4936e200710"
  },
  "kernelspec": {
   "display_name": "dss",
   "language": "python",
   "name": "python3"
  },
  "language_info": {
   "codemirror_mode": {
    "name": "ipython",
    "version": 3
   },
   "file_extension": ".py",
   "mimetype": "text/x-python",
   "name": "python",
   "nbconvert_exporter": "python",
   "pygments_lexer": "ipython3",
   "version": "3.8.10"
  }
 },
 "nbformat": 4,
 "nbformat_minor": 5
}
