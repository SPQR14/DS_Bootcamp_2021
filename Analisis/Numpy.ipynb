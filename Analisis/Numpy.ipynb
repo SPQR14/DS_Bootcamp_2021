{
 "cells": [
  {
   "cell_type": "code",
   "execution_count": 1,
   "id": "4bc1d52a",
   "metadata": {},
   "outputs": [],
   "source": [
    "import numpy as np"
   ]
  },
  {
   "cell_type": "code",
   "execution_count": 2,
   "id": "403d7e23",
   "metadata": {},
   "outputs": [
    {
     "data": {
      "text/plain": [
       "array([ 0,  1,  2,  3,  4,  5,  6,  7,  8,  9, 10, 11, 12, 13, 14, 15, 16,\n",
       "       17, 18, 19, 20, 21, 22, 23, 24, 25, 26, 27, 28, 29, 30, 31, 32, 33,\n",
       "       34, 35, 36, 37, 38, 39, 40, 41, 42, 43, 44, 45, 46, 47, 48, 49, 50,\n",
       "       51, 52, 53, 54, 55, 56, 57, 58, 59, 60, 61, 62, 63, 64, 65, 66, 67,\n",
       "       68, 69, 70, 71, 72, 73, 74, 75, 76, 77, 78, 79, 80, 81, 82, 83, 84,\n",
       "       85, 86, 87, 88, 89, 90, 91, 92, 93, 94, 95, 96, 97, 98, 99])"
      ]
     },
     "execution_count": 2,
     "metadata": {},
     "output_type": "execute_result"
    }
   ],
   "source": [
    "np.array([x for x in range(0,100)])"
   ]
  },
  {
   "cell_type": "code",
   "execution_count": 3,
   "id": "6848d70a",
   "metadata": {},
   "outputs": [],
   "source": [
    "a = np.array([x for x in range(1,6)])"
   ]
  },
  {
   "cell_type": "code",
   "execution_count": 4,
   "id": "ec3a3f0b",
   "metadata": {},
   "outputs": [
    {
     "data": {
      "text/plain": [
       "numpy.ndarray"
      ]
     },
     "execution_count": 4,
     "metadata": {},
     "output_type": "execute_result"
    }
   ],
   "source": [
    "type(a)"
   ]
  },
  {
   "cell_type": "code",
   "execution_count": 5,
   "id": "480b2f4b",
   "metadata": {},
   "outputs": [
    {
     "data": {
      "text/plain": [
       "5"
      ]
     },
     "execution_count": 5,
     "metadata": {},
     "output_type": "execute_result"
    }
   ],
   "source": [
    "a.size"
   ]
  },
  {
   "cell_type": "code",
   "execution_count": 6,
   "id": "76a42aa3",
   "metadata": {},
   "outputs": [
    {
     "data": {
      "text/plain": [
       "array([1, 2, 3, 4, 5])"
      ]
     },
     "execution_count": 6,
     "metadata": {},
     "output_type": "execute_result"
    }
   ],
   "source": [
    "a"
   ]
  },
  {
   "cell_type": "code",
   "execution_count": 7,
   "id": "558160b7",
   "metadata": {},
   "outputs": [
    {
     "data": {
      "text/plain": [
       "1"
      ]
     },
     "execution_count": 7,
     "metadata": {},
     "output_type": "execute_result"
    }
   ],
   "source": [
    "a.ndim"
   ]
  },
  {
   "cell_type": "code",
   "execution_count": 8,
   "id": "f730cd24",
   "metadata": {},
   "outputs": [
    {
     "data": {
      "text/plain": [
       "dtype('int64')"
      ]
     },
     "execution_count": 8,
     "metadata": {},
     "output_type": "execute_result"
    }
   ],
   "source": [
    "a.dtype"
   ]
  },
  {
   "cell_type": "code",
   "execution_count": 9,
   "id": "c9b24a9f",
   "metadata": {},
   "outputs": [
    {
     "data": {
      "text/plain": [
       "(5,)"
      ]
     },
     "execution_count": 9,
     "metadata": {},
     "output_type": "execute_result"
    }
   ],
   "source": [
    "a.shape"
   ]
  },
  {
   "cell_type": "code",
   "execution_count": 10,
   "id": "b85a34f8",
   "metadata": {},
   "outputs": [],
   "source": [
    "b = np.array([[x for x in range(1, 11)], [x for x in range(1, 11)], [x for x in range(1, 11)]])"
   ]
  },
  {
   "cell_type": "code",
   "execution_count": 11,
   "id": "0ea81412",
   "metadata": {},
   "outputs": [
    {
     "data": {
      "text/plain": [
       "(3, 10)"
      ]
     },
     "execution_count": 11,
     "metadata": {},
     "output_type": "execute_result"
    }
   ],
   "source": [
    "b.shape"
   ]
  },
  {
   "cell_type": "code",
   "execution_count": 12,
   "id": "97e1fd86",
   "metadata": {},
   "outputs": [
    {
     "data": {
      "text/plain": [
       "2"
      ]
     },
     "execution_count": 12,
     "metadata": {},
     "output_type": "execute_result"
    }
   ],
   "source": [
    "b.ndim"
   ]
  },
  {
   "cell_type": "code",
   "execution_count": 13,
   "id": "3735227a",
   "metadata": {},
   "outputs": [
    {
     "data": {
      "text/plain": [
       "30"
      ]
     },
     "execution_count": 13,
     "metadata": {},
     "output_type": "execute_result"
    }
   ],
   "source": [
    "b.size"
   ]
  },
  {
   "cell_type": "code",
   "execution_count": 14,
   "id": "27e6546f",
   "metadata": {},
   "outputs": [
    {
     "data": {
      "text/plain": [
       "array([[ 1,  2,  3,  4,  5,  6,  7,  8,  9, 10],\n",
       "       [ 1,  2,  3,  4,  5,  6,  7,  8,  9, 10],\n",
       "       [ 1,  2,  3,  4,  5,  6,  7,  8,  9, 10]])"
      ]
     },
     "execution_count": 14,
     "metadata": {},
     "output_type": "execute_result"
    }
   ],
   "source": [
    "b"
   ]
  },
  {
   "cell_type": "code",
   "execution_count": 15,
   "id": "9d2f3233",
   "metadata": {},
   "outputs": [
    {
     "data": {
      "text/plain": [
       "array([11, 12, 13, 14, 15])"
      ]
     },
     "execution_count": 15,
     "metadata": {},
     "output_type": "execute_result"
    }
   ],
   "source": [
    "a + 10"
   ]
  },
  {
   "cell_type": "code",
   "execution_count": 16,
   "id": "22271528",
   "metadata": {},
   "outputs": [
    {
     "data": {
      "text/plain": [
       "array([[ 3,  6,  9, 12, 15, 18, 21, 24, 27, 30],\n",
       "       [ 3,  6,  9, 12, 15, 18, 21, 24, 27, 30],\n",
       "       [ 3,  6,  9, 12, 15, 18, 21, 24, 27, 30]])"
      ]
     },
     "execution_count": 16,
     "metadata": {},
     "output_type": "execute_result"
    }
   ],
   "source": [
    "np.multiply(b, 3)"
   ]
  },
  {
   "cell_type": "code",
   "execution_count": 17,
   "id": "20abe1b1",
   "metadata": {},
   "outputs": [],
   "source": [
    "b = np.array([6, 7, 8, 9, 10])"
   ]
  },
  {
   "cell_type": "code",
   "execution_count": 18,
   "id": "4f07b15b",
   "metadata": {},
   "outputs": [
    {
     "data": {
      "text/plain": [
       "array([ 7,  9, 11, 13, 15])"
      ]
     },
     "execution_count": 18,
     "metadata": {},
     "output_type": "execute_result"
    }
   ],
   "source": [
    "a + b"
   ]
  },
  {
   "cell_type": "code",
   "execution_count": 19,
   "id": "b353d6ac",
   "metadata": {},
   "outputs": [
    {
     "data": {
      "text/plain": [
       "array([-5, -5, -5, -5, -5])"
      ]
     },
     "execution_count": 19,
     "metadata": {},
     "output_type": "execute_result"
    }
   ],
   "source": [
    "a - b"
   ]
  },
  {
   "cell_type": "code",
   "execution_count": 20,
   "id": "49b9b527",
   "metadata": {},
   "outputs": [],
   "source": [
    "a = np.array([1,2,3,4,5])"
   ]
  },
  {
   "cell_type": "code",
   "execution_count": 21,
   "id": "5c54503e",
   "metadata": {},
   "outputs": [
    {
     "data": {
      "text/plain": [
       "dtype('int64')"
      ]
     },
     "execution_count": 21,
     "metadata": {},
     "output_type": "execute_result"
    }
   ],
   "source": [
    "a.dtype"
   ]
  },
  {
   "cell_type": "code",
   "execution_count": 22,
   "id": "047d7ddf",
   "metadata": {},
   "outputs": [],
   "source": [
    "a = np.array([1, 2, 3, 4, 5], dtype = float)"
   ]
  },
  {
   "cell_type": "code",
   "execution_count": 23,
   "id": "6db4d43d",
   "metadata": {},
   "outputs": [
    {
     "data": {
      "text/plain": [
       "array([1., 2., 3., 4., 5.])"
      ]
     },
     "execution_count": 23,
     "metadata": {},
     "output_type": "execute_result"
    }
   ],
   "source": [
    "a"
   ]
  },
  {
   "cell_type": "code",
   "execution_count": 24,
   "id": "40de4383",
   "metadata": {},
   "outputs": [
    {
     "data": {
      "text/plain": [
       "array([ True,  True, False])"
      ]
     },
     "execution_count": 24,
     "metadata": {},
     "output_type": "execute_result"
    }
   ],
   "source": [
    "np.array([True, True, False])"
   ]
  },
  {
   "cell_type": "code",
   "execution_count": 25,
   "id": "e0834d88",
   "metadata": {},
   "outputs": [
    {
     "data": {
      "text/plain": [
       "array([  1,   2,   3,   4,   5,   6,   7,   8,   9,  10,  11,  12,  13,\n",
       "        14,  15,  16,  17,  18,  19,  20,  21,  22,  23,  24,  25,  26,\n",
       "        27,  28,  29,  30,  31,  32,  33,  34,  35,  36,  37,  38,  39,\n",
       "        40,  41,  42,  43,  44,  45,  46,  47,  48,  49,  50,  51,  52,\n",
       "        53,  54,  55,  56,  57,  58,  59,  60,  61,  62,  63,  64,  65,\n",
       "        66,  67,  68,  69,  70,  71,  72,  73,  74,  75,  76,  77,  78,\n",
       "        79,  80,  81,  82,  83,  84,  85,  86,  87,  88,  89,  90,  91,\n",
       "        92,  93,  94,  95,  96,  97,  98,  99, 100])"
      ]
     },
     "execution_count": 25,
     "metadata": {},
     "output_type": "execute_result"
    }
   ],
   "source": [
    "np.arange(1, 101)"
   ]
  },
  {
   "cell_type": "code",
   "execution_count": 26,
   "id": "075dc108",
   "metadata": {},
   "outputs": [
    {
     "data": {
      "text/plain": [
       "array([ 1,  3,  5,  7,  9, 11, 13, 15, 17, 19, 21, 23, 25, 27, 29, 31, 33,\n",
       "       35, 37, 39, 41, 43, 45, 47, 49, 51, 53, 55, 57, 59, 61, 63, 65, 67,\n",
       "       69, 71, 73, 75, 77, 79, 81, 83, 85, 87, 89, 91, 93, 95, 97, 99])"
      ]
     },
     "execution_count": 26,
     "metadata": {},
     "output_type": "execute_result"
    }
   ],
   "source": [
    "np.arange(1, 101, 2)"
   ]
  },
  {
   "cell_type": "code",
   "execution_count": 27,
   "id": "8a06eb13",
   "metadata": {},
   "outputs": [
    {
     "data": {
      "text/plain": [
       "array([0., 0., 0., 0., 0., 0., 0., 0., 0., 0.])"
      ]
     },
     "execution_count": 27,
     "metadata": {},
     "output_type": "execute_result"
    }
   ],
   "source": [
    "np.zeros(10)"
   ]
  },
  {
   "cell_type": "code",
   "execution_count": 28,
   "id": "3e6f6fdb",
   "metadata": {},
   "outputs": [
    {
     "data": {
      "text/plain": [
       "array([0, 0, 0, 0, 0, 0, 0, 0, 0, 0])"
      ]
     },
     "execution_count": 28,
     "metadata": {},
     "output_type": "execute_result"
    }
   ],
   "source": [
    "np.zeros(10, dtype = int)"
   ]
  },
  {
   "cell_type": "code",
   "execution_count": 29,
   "id": "787c43de",
   "metadata": {},
   "outputs": [
    {
     "data": {
      "text/plain": [
       "array([1, 1, 1, 1, 1, 1, 1, 1, 1, 1])"
      ]
     },
     "execution_count": 29,
     "metadata": {},
     "output_type": "execute_result"
    }
   ],
   "source": [
    "np.ones(10, dtype = int)"
   ]
  },
  {
   "cell_type": "code",
   "execution_count": 30,
   "id": "6602578e",
   "metadata": {},
   "outputs": [
    {
     "data": {
      "text/plain": [
       "array([1.14250098e-313, 0.00000000e+000, 0.00000000e+000, 0.00000000e+000,\n",
       "       6.90179131e-310, 6.34783719e-066, 2.14330454e+184, 6.20155159e-091,\n",
       "       6.75826020e-067, 6.90187520e-310])"
      ]
     },
     "execution_count": 30,
     "metadata": {},
     "output_type": "execute_result"
    }
   ],
   "source": [
    "np.empty(10)"
   ]
  },
  {
   "cell_type": "code",
   "execution_count": 31,
   "id": "9a6b1cfc",
   "metadata": {},
   "outputs": [
    {
     "data": {
      "text/plain": [
       "array([12, 10, 10,  9, 12, 15,  5, 11, 10,  2,  1, 22,  7, 14, 18, 16, 21,\n",
       "       26,  5, 16,  8,  3, 22,  7, 14,  4, 15, 15, 10, 22, 15, 17, 13, 21,\n",
       "        9, 18, 26, 12, 16, 10,  2,  2,  5, 26, 20, 27,  5,  5, 23, 26])"
      ]
     },
     "execution_count": 31,
     "metadata": {},
     "output_type": "execute_result"
    }
   ],
   "source": [
    "np.random.randint(1, 28, 50)"
   ]
  },
  {
   "cell_type": "code",
   "execution_count": 32,
   "id": "40d47fbe",
   "metadata": {},
   "outputs": [
    {
     "data": {
      "text/plain": [
       "array([1.14250098e-313, 0.00000000e+000, 0.00000000e+000, 0.00000000e+000,\n",
       "       6.90179131e-310, 6.34783719e-066, 2.14330454e+184, 6.20155159e-091,\n",
       "       6.75826020e-067, 6.90187520e-310])"
      ]
     },
     "execution_count": 32,
     "metadata": {},
     "output_type": "execute_result"
    }
   ],
   "source": [
    "np.empty(10)"
   ]
  },
  {
   "cell_type": "code",
   "execution_count": 33,
   "id": "51855eec",
   "metadata": {},
   "outputs": [],
   "source": [
    "a = np.random.randint(0, 10, 10)"
   ]
  },
  {
   "cell_type": "code",
   "execution_count": 34,
   "id": "6fafef34",
   "metadata": {},
   "outputs": [
    {
     "data": {
      "text/plain": [
       "array([8, 7, 9, 3, 1, 8, 0, 9, 6, 6])"
      ]
     },
     "execution_count": 34,
     "metadata": {},
     "output_type": "execute_result"
    }
   ],
   "source": [
    "a"
   ]
  },
  {
   "cell_type": "code",
   "execution_count": 35,
   "id": "f6a3ee83",
   "metadata": {},
   "outputs": [
    {
     "data": {
      "text/plain": [
       "array([8, 7, 9])"
      ]
     },
     "execution_count": 35,
     "metadata": {},
     "output_type": "execute_result"
    }
   ],
   "source": [
    "a[0:3]"
   ]
  },
  {
   "cell_type": "code",
   "execution_count": 36,
   "id": "b9d3c857",
   "metadata": {},
   "outputs": [
    {
     "data": {
      "text/plain": [
       "array([1, 8, 0, 9, 6, 6])"
      ]
     },
     "execution_count": 36,
     "metadata": {},
     "output_type": "execute_result"
    }
   ],
   "source": [
    "a[-6:]"
   ]
  },
  {
   "cell_type": "code",
   "execution_count": 37,
   "id": "93f111cc",
   "metadata": {},
   "outputs": [],
   "source": [
    "a[0] = 19"
   ]
  },
  {
   "cell_type": "code",
   "execution_count": 38,
   "id": "2a0cc23c",
   "metadata": {},
   "outputs": [
    {
     "data": {
      "text/plain": [
       "array([19,  7,  9,  3,  1,  8,  0,  9,  6,  6])"
      ]
     },
     "execution_count": 38,
     "metadata": {},
     "output_type": "execute_result"
    }
   ],
   "source": [
    "a"
   ]
  },
  {
   "cell_type": "code",
   "execution_count": 39,
   "id": "66c2dbc4",
   "metadata": {},
   "outputs": [],
   "source": [
    "a = np.random.randint(0, 100, 20)"
   ]
  },
  {
   "cell_type": "code",
   "execution_count": 40,
   "id": "fab662f2",
   "metadata": {},
   "outputs": [
    {
     "data": {
      "text/plain": [
       "array([48, 27, 83, 53, 23, 25, 83, 16, 56, 79, 50, 32, 96, 13, 65,  5, 29,\n",
       "       61, 25, 12])"
      ]
     },
     "execution_count": 40,
     "metadata": {},
     "output_type": "execute_result"
    }
   ],
   "source": [
    "a"
   ]
  },
  {
   "cell_type": "code",
   "execution_count": 41,
   "id": "3ad77ccb",
   "metadata": {},
   "outputs": [
    {
     "data": {
      "text/plain": [
       "array([48, 27, 83, 53, 23])"
      ]
     },
     "execution_count": 41,
     "metadata": {},
     "output_type": "execute_result"
    }
   ],
   "source": [
    "a[:5]"
   ]
  },
  {
   "cell_type": "code",
   "execution_count": 42,
   "id": "78cdb849",
   "metadata": {},
   "outputs": [
    {
     "data": {
      "text/plain": [
       "array([48, 27, 83, 53, 23, 25, 83, 16, 56, 79])"
      ]
     },
     "execution_count": 42,
     "metadata": {},
     "output_type": "execute_result"
    }
   ],
   "source": [
    "#a[start, end, hops]\n",
    "a[:10]"
   ]
  },
  {
   "cell_type": "code",
   "execution_count": 43,
   "id": "5771ae4e",
   "metadata": {},
   "outputs": [
    {
     "data": {
      "text/plain": [
       "48"
      ]
     },
     "execution_count": 43,
     "metadata": {},
     "output_type": "execute_result"
    }
   ],
   "source": [
    "a[0]"
   ]
  },
  {
   "cell_type": "code",
   "execution_count": 44,
   "id": "9f6540c4",
   "metadata": {},
   "outputs": [
    {
     "data": {
      "text/plain": [
       "27"
      ]
     },
     "execution_count": 44,
     "metadata": {},
     "output_type": "execute_result"
    }
   ],
   "source": [
    "a[1]"
   ]
  },
  {
   "cell_type": "code",
   "execution_count": 45,
   "id": "4bf97584",
   "metadata": {},
   "outputs": [
    {
     "data": {
      "text/plain": [
       "53"
      ]
     },
     "execution_count": 45,
     "metadata": {},
     "output_type": "execute_result"
    }
   ],
   "source": [
    "a[3]"
   ]
  },
  {
   "cell_type": "code",
   "execution_count": 46,
   "id": "6b69f347",
   "metadata": {},
   "outputs": [
    {
     "data": {
      "text/plain": [
       "array([48, 23, 16, 25])"
      ]
     },
     "execution_count": 46,
     "metadata": {},
     "output_type": "execute_result"
    }
   ],
   "source": [
    "a[[0,4,7,5]]"
   ]
  },
  {
   "cell_type": "code",
   "execution_count": 47,
   "id": "8a3e26e1",
   "metadata": {},
   "outputs": [],
   "source": [
    "b = np.array([1,2,3,4,5])"
   ]
  },
  {
   "cell_type": "code",
   "execution_count": 48,
   "id": "9ff28987",
   "metadata": {},
   "outputs": [
    {
     "data": {
      "text/plain": [
       "array([1, 2, 3, 4, 5])"
      ]
     },
     "execution_count": 48,
     "metadata": {},
     "output_type": "execute_result"
    }
   ],
   "source": [
    "b"
   ]
  },
  {
   "cell_type": "code",
   "execution_count": 49,
   "id": "d1d4503f",
   "metadata": {},
   "outputs": [
    {
     "data": {
      "text/plain": [
       "array([1, 2, 4])"
      ]
     },
     "execution_count": 49,
     "metadata": {},
     "output_type": "execute_result"
    }
   ],
   "source": [
    "b[[True, True, False, True, False]]"
   ]
  },
  {
   "cell_type": "code",
   "execution_count": 50,
   "id": "c0298dec",
   "metadata": {},
   "outputs": [],
   "source": [
    "a = np.random.randint(1, 100, 100)"
   ]
  },
  {
   "cell_type": "code",
   "execution_count": 51,
   "id": "d82d4f76",
   "metadata": {},
   "outputs": [
    {
     "data": {
      "text/plain": [
       "array([65,  3, 15, 58, 29, 66,  2, 68, 64, 67, 87, 65, 29, 59, 96, 63, 70,\n",
       "       16, 74, 28,  8, 63, 53, 37,  4, 27, 67, 83, 21, 98, 57, 68, 69, 12,\n",
       "       41, 31, 74, 11,  9, 35, 49, 20, 12, 86, 18, 44, 73, 40, 70, 59, 22,\n",
       "       78, 57, 88,  7, 26, 12, 27, 13, 31, 34, 57, 13,  4, 49, 43, 13, 60,\n",
       "       55, 37, 57, 43, 74, 55, 88,  2, 85,  7, 28, 35, 35, 86, 23, 85, 76,\n",
       "       96,  4, 12, 56, 67, 84, 94,  2, 60, 76, 18,  8, 11, 71, 57])"
      ]
     },
     "execution_count": 51,
     "metadata": {},
     "output_type": "execute_result"
    }
   ],
   "source": [
    "a"
   ]
  },
  {
   "cell_type": "code",
   "execution_count": 52,
   "id": "aced59c6",
   "metadata": {},
   "outputs": [],
   "source": [
    "def operacion(valor):\n",
    "    \"\"\"Eleva al cuadrado el argumento recibido por valor y le suma dos\"\"\"\n",
    "    return (valor ** 2) + 2"
   ]
  },
  {
   "cell_type": "code",
   "execution_count": 53,
   "id": "2df000c7",
   "metadata": {},
   "outputs": [
    {
     "name": "stdout",
     "output_type": "stream",
     "text": [
      "4227\n",
      "11\n",
      "227\n",
      "3366\n",
      "843\n",
      "4358\n",
      "6\n",
      "4626\n",
      "4098\n",
      "4491\n",
      "7571\n",
      "4227\n",
      "843\n",
      "3483\n",
      "9218\n",
      "3971\n",
      "4902\n",
      "258\n",
      "5478\n",
      "786\n",
      "66\n",
      "3971\n",
      "2811\n",
      "1371\n",
      "18\n",
      "731\n",
      "4491\n",
      "6891\n",
      "443\n",
      "9606\n",
      "3251\n",
      "4626\n",
      "4763\n",
      "146\n",
      "1683\n",
      "963\n",
      "5478\n",
      "123\n",
      "83\n",
      "1227\n",
      "2403\n",
      "402\n",
      "146\n",
      "7398\n",
      "326\n",
      "1938\n",
      "5331\n",
      "1602\n",
      "4902\n",
      "3483\n",
      "486\n",
      "6086\n",
      "3251\n",
      "7746\n",
      "51\n",
      "678\n",
      "146\n",
      "731\n",
      "171\n",
      "963\n",
      "1158\n",
      "3251\n",
      "171\n",
      "18\n",
      "2403\n",
      "1851\n",
      "171\n",
      "3602\n",
      "3027\n",
      "1371\n",
      "3251\n",
      "1851\n",
      "5478\n",
      "3027\n",
      "7746\n",
      "6\n",
      "7227\n",
      "51\n",
      "786\n",
      "1227\n",
      "1227\n",
      "7398\n",
      "531\n",
      "7227\n",
      "5778\n",
      "9218\n",
      "18\n",
      "146\n",
      "3138\n",
      "4491\n",
      "7058\n",
      "8838\n",
      "6\n",
      "3602\n",
      "5778\n",
      "326\n",
      "66\n",
      "123\n",
      "5043\n",
      "3251\n"
     ]
    }
   ],
   "source": [
    "for valor in a:\n",
    "    print(operacion(valor))"
   ]
  },
  {
   "cell_type": "code",
   "execution_count": 54,
   "id": "cf5f2070",
   "metadata": {},
   "outputs": [],
   "source": [
    "vector = np.vectorize(operacion)"
   ]
  },
  {
   "cell_type": "code",
   "execution_count": 55,
   "id": "b6a1de65",
   "metadata": {},
   "outputs": [
    {
     "data": {
      "text/plain": [
       "array([4227,   11,  227, 3366,  843, 4358,    6, 4626, 4098, 4491, 7571,\n",
       "       4227,  843, 3483, 9218, 3971, 4902,  258, 5478,  786,   66, 3971,\n",
       "       2811, 1371,   18,  731, 4491, 6891,  443, 9606, 3251, 4626, 4763,\n",
       "        146, 1683,  963, 5478,  123,   83, 1227, 2403,  402,  146, 7398,\n",
       "        326, 1938, 5331, 1602, 4902, 3483,  486, 6086, 3251, 7746,   51,\n",
       "        678,  146,  731,  171,  963, 1158, 3251,  171,   18, 2403, 1851,\n",
       "        171, 3602, 3027, 1371, 3251, 1851, 5478, 3027, 7746,    6, 7227,\n",
       "         51,  786, 1227, 1227, 7398,  531, 7227, 5778, 9218,   18,  146,\n",
       "       3138, 4491, 7058, 8838,    6, 3602, 5778,  326,   66,  123, 5043,\n",
       "       3251])"
      ]
     },
     "execution_count": 55,
     "metadata": {},
     "output_type": "execute_result"
    }
   ],
   "source": [
    "vector(a)"
   ]
  },
  {
   "cell_type": "code",
   "execution_count": 56,
   "id": "33678749",
   "metadata": {},
   "outputs": [],
   "source": [
    "vector = np.vectorize(lambda valor: (valor ** 3 ) + 2)"
   ]
  },
  {
   "cell_type": "code",
   "execution_count": 57,
   "id": "7660fe66",
   "metadata": {},
   "outputs": [
    {
     "data": {
      "text/plain": [
       "array([274627,     29,   3377, 195114,  24391, 287498,     10, 314434,\n",
       "       262146, 300765, 658505, 274627,  24391, 205381, 884738, 250049,\n",
       "       343002,   4098, 405226,  21954,    514, 250049, 148879,  50655,\n",
       "           66,  19685, 300765, 571789,   9263, 941194, 185195, 314434,\n",
       "       328511,   1730,  68923,  29793, 405226,   1333,    731,  42877,\n",
       "       117651,   8002,   1730, 636058,   5834,  85186, 389019,  64002,\n",
       "       343002, 205381,  10650, 474554, 185195, 681474,    345,  17578,\n",
       "         1730,  19685,   2199,  29793,  39306, 185195,   2199,     66,\n",
       "       117651,  79509,   2199, 216002, 166377,  50655, 185195,  79509,\n",
       "       405226, 166377, 681474,     10, 614127,    345,  21954,  42877,\n",
       "        42877, 636058,  12169, 614127, 438978, 884738,     66,   1730,\n",
       "       175618, 300765, 592706, 830586,     10, 216002, 438978,   5834,\n",
       "          514,   1333, 357913, 185195])"
      ]
     },
     "execution_count": 57,
     "metadata": {},
     "output_type": "execute_result"
    }
   ],
   "source": [
    "vector(a)"
   ]
  },
  {
   "cell_type": "code",
   "execution_count": 58,
   "id": "9183dc95",
   "metadata": {},
   "outputs": [],
   "source": [
    "a = np.arange(0, 9)"
   ]
  },
  {
   "cell_type": "code",
   "execution_count": 59,
   "id": "914239e6",
   "metadata": {},
   "outputs": [
    {
     "data": {
      "text/plain": [
       "array([0, 1, 2, 3, 4, 5, 6, 7, 8])"
      ]
     },
     "execution_count": 59,
     "metadata": {},
     "output_type": "execute_result"
    }
   ],
   "source": [
    "a"
   ]
  },
  {
   "cell_type": "code",
   "execution_count": 60,
   "id": "46f08826",
   "metadata": {},
   "outputs": [],
   "source": [
    "#copias\n",
    "a_1 = a.copy()"
   ]
  },
  {
   "cell_type": "code",
   "execution_count": 61,
   "id": "b4bda3b1",
   "metadata": {},
   "outputs": [
    {
     "data": {
      "text/plain": [
       "array([0, 1, 2, 3, 4, 5, 6, 7, 8])"
      ]
     },
     "execution_count": 61,
     "metadata": {},
     "output_type": "execute_result"
    }
   ],
   "source": [
    "a_1"
   ]
  },
  {
   "cell_type": "code",
   "execution_count": 62,
   "id": "b70cc575",
   "metadata": {},
   "outputs": [
    {
     "data": {
      "text/plain": [
       "139696094821472"
      ]
     },
     "execution_count": 62,
     "metadata": {},
     "output_type": "execute_result"
    }
   ],
   "source": [
    "id(a)"
   ]
  },
  {
   "cell_type": "code",
   "execution_count": 63,
   "id": "f43b74df",
   "metadata": {},
   "outputs": [
    {
     "data": {
      "text/plain": [
       "139696094819952"
      ]
     },
     "execution_count": 63,
     "metadata": {},
     "output_type": "execute_result"
    }
   ],
   "source": [
    "id(a_1)"
   ]
  },
  {
   "cell_type": "code",
   "execution_count": 64,
   "id": "f65510dd",
   "metadata": {},
   "outputs": [
    {
     "data": {
      "text/plain": [
       "False"
      ]
     },
     "execution_count": 64,
     "metadata": {},
     "output_type": "execute_result"
    }
   ],
   "source": [
    "a is a_1"
   ]
  },
  {
   "cell_type": "code",
   "execution_count": 65,
   "id": "676760b4",
   "metadata": {},
   "outputs": [],
   "source": [
    "a[0] = 100"
   ]
  },
  {
   "cell_type": "code",
   "execution_count": 66,
   "id": "13091304",
   "metadata": {},
   "outputs": [
    {
     "data": {
      "text/plain": [
       "array([100,   1,   2,   3,   4,   5,   6,   7,   8])"
      ]
     },
     "execution_count": 66,
     "metadata": {},
     "output_type": "execute_result"
    }
   ],
   "source": [
    "a"
   ]
  },
  {
   "cell_type": "code",
   "execution_count": 67,
   "id": "02933ebb",
   "metadata": {},
   "outputs": [
    {
     "data": {
      "text/plain": [
       "array([0, 1, 2, 3, 4, 5, 6, 7, 8])"
      ]
     },
     "execution_count": 67,
     "metadata": {},
     "output_type": "execute_result"
    }
   ],
   "source": [
    "a_1"
   ]
  },
  {
   "cell_type": "code",
   "execution_count": 68,
   "id": "62eedade",
   "metadata": {},
   "outputs": [
    {
     "data": {
      "text/plain": [
       "array([100,   1,   2,   3,   4,   5,   6,   7,   8])"
      ]
     },
     "execution_count": 68,
     "metadata": {},
     "output_type": "execute_result"
    }
   ],
   "source": [
    "a.view()"
   ]
  },
  {
   "cell_type": "code",
   "execution_count": 69,
   "id": "40c4fc2c",
   "metadata": {},
   "outputs": [],
   "source": [
    "a_v = a.view()"
   ]
  },
  {
   "cell_type": "code",
   "execution_count": 70,
   "id": "87db55ab",
   "metadata": {},
   "outputs": [
    {
     "data": {
      "text/plain": [
       "139696094821472"
      ]
     },
     "execution_count": 70,
     "metadata": {},
     "output_type": "execute_result"
    }
   ],
   "source": [
    "id(a)"
   ]
  },
  {
   "cell_type": "code",
   "execution_count": 71,
   "id": "096422c8",
   "metadata": {},
   "outputs": [
    {
     "data": {
      "text/plain": [
       "139696094836736"
      ]
     },
     "execution_count": 71,
     "metadata": {},
     "output_type": "execute_result"
    }
   ],
   "source": [
    "id(a_v)"
   ]
  },
  {
   "cell_type": "code",
   "execution_count": 72,
   "id": "55b028df",
   "metadata": {},
   "outputs": [
    {
     "data": {
      "text/plain": [
       "False"
      ]
     },
     "execution_count": 72,
     "metadata": {},
     "output_type": "execute_result"
    }
   ],
   "source": [
    "a is a_v"
   ]
  },
  {
   "cell_type": "code",
   "execution_count": 73,
   "id": "92262616",
   "metadata": {},
   "outputs": [],
   "source": [
    "a[0] = 14"
   ]
  },
  {
   "cell_type": "code",
   "execution_count": 74,
   "id": "5ecd9d68",
   "metadata": {},
   "outputs": [
    {
     "data": {
      "text/plain": [
       "array([14,  1,  2,  3,  4,  5,  6,  7,  8])"
      ]
     },
     "execution_count": 74,
     "metadata": {},
     "output_type": "execute_result"
    }
   ],
   "source": [
    "a"
   ]
  },
  {
   "cell_type": "code",
   "execution_count": 75,
   "id": "90928598",
   "metadata": {},
   "outputs": [
    {
     "data": {
      "text/plain": [
       "array([14,  1,  2,  3,  4,  5,  6,  7,  8])"
      ]
     },
     "execution_count": 75,
     "metadata": {},
     "output_type": "execute_result"
    }
   ],
   "source": [
    "a_v"
   ]
  },
  {
   "cell_type": "code",
   "execution_count": 76,
   "id": "b7750e52",
   "metadata": {},
   "outputs": [],
   "source": [
    "a_v[-1] = 180"
   ]
  },
  {
   "cell_type": "code",
   "execution_count": 77,
   "id": "f31142a1",
   "metadata": {},
   "outputs": [
    {
     "data": {
      "text/plain": [
       "array([ 14,   1,   2,   3,   4,   5,   6,   7, 180])"
      ]
     },
     "execution_count": 77,
     "metadata": {},
     "output_type": "execute_result"
    }
   ],
   "source": [
    "a_v"
   ]
  },
  {
   "cell_type": "code",
   "execution_count": 78,
   "id": "3ced41d0",
   "metadata": {},
   "outputs": [
    {
     "data": {
      "text/plain": [
       "array([ 14,   1,   2,   3,   4,   5,   6,   7, 180])"
      ]
     },
     "execution_count": 78,
     "metadata": {},
     "output_type": "execute_result"
    }
   ],
   "source": [
    "a"
   ]
  },
  {
   "cell_type": "code",
   "execution_count": 79,
   "id": "5db71bad",
   "metadata": {},
   "outputs": [
    {
     "data": {
      "text/plain": [
       "array([ 14,   1,   2,   3,   4,   5,   6,   7, 180])"
      ]
     },
     "execution_count": 79,
     "metadata": {},
     "output_type": "execute_result"
    }
   ],
   "source": [
    "a_v.base"
   ]
  },
  {
   "cell_type": "code",
   "execution_count": 80,
   "id": "07528af8",
   "metadata": {},
   "outputs": [
    {
     "data": {
      "text/plain": [
       "139696094821472"
      ]
     },
     "execution_count": 80,
     "metadata": {},
     "output_type": "execute_result"
    }
   ],
   "source": [
    "id(a)"
   ]
  },
  {
   "cell_type": "code",
   "execution_count": 81,
   "id": "332876b9",
   "metadata": {},
   "outputs": [
    {
     "data": {
      "text/plain": [
       "139696094821472"
      ]
     },
     "execution_count": 81,
     "metadata": {},
     "output_type": "execute_result"
    }
   ],
   "source": [
    "id(a_v.base)"
   ]
  },
  {
   "cell_type": "code",
   "execution_count": 82,
   "id": "a0c7eeac",
   "metadata": {},
   "outputs": [],
   "source": [
    "d = a[:]"
   ]
  },
  {
   "cell_type": "code",
   "execution_count": 83,
   "id": "509ecfbb",
   "metadata": {},
   "outputs": [
    {
     "data": {
      "text/plain": [
       "array([ 14,   1,   2,   3,   4,   5,   6,   7, 180])"
      ]
     },
     "execution_count": 83,
     "metadata": {},
     "output_type": "execute_result"
    }
   ],
   "source": [
    "a"
   ]
  },
  {
   "cell_type": "code",
   "execution_count": 84,
   "id": "b095251d",
   "metadata": {},
   "outputs": [
    {
     "data": {
      "text/plain": [
       "array([ 14,   1,   2,   3,   4,   5,   6,   7, 180])"
      ]
     },
     "execution_count": 84,
     "metadata": {},
     "output_type": "execute_result"
    }
   ],
   "source": [
    "d"
   ]
  },
  {
   "cell_type": "code",
   "execution_count": 85,
   "id": "d60015c6",
   "metadata": {},
   "outputs": [
    {
     "data": {
      "text/plain": [
       "array([ 14,   1,   2,   3,   4,   5,   6,   7, 180])"
      ]
     },
     "execution_count": 85,
     "metadata": {},
     "output_type": "execute_result"
    }
   ],
   "source": [
    "d.base"
   ]
  },
  {
   "cell_type": "code",
   "execution_count": 86,
   "id": "4b398ca5",
   "metadata": {},
   "outputs": [
    {
     "data": {
      "text/plain": [
       "True"
      ]
     },
     "execution_count": 86,
     "metadata": {},
     "output_type": "execute_result"
    }
   ],
   "source": [
    "d.base is a"
   ]
  },
  {
   "cell_type": "code",
   "execution_count": 87,
   "id": "7a321872",
   "metadata": {},
   "outputs": [],
   "source": [
    "#añadir o quitar elementos de arreglos. No modifican los arreglos, crean un objeto arreglo aparte\n",
    "a = np.random.randint(1, 11, 10)"
   ]
  },
  {
   "cell_type": "code",
   "execution_count": 88,
   "id": "07aa7f35",
   "metadata": {},
   "outputs": [
    {
     "data": {
      "text/plain": [
       "array([6, 5, 1, 9, 6, 7, 4, 5, 3, 4])"
      ]
     },
     "execution_count": 88,
     "metadata": {},
     "output_type": "execute_result"
    }
   ],
   "source": [
    "a"
   ]
  },
  {
   "cell_type": "code",
   "execution_count": 89,
   "id": "ac1efb25",
   "metadata": {},
   "outputs": [
    {
     "data": {
      "text/plain": [
       "array([200,   6,   5,   1,   9,   6,   7,   4,   5,   3,   4])"
      ]
     },
     "execution_count": 89,
     "metadata": {},
     "output_type": "execute_result"
    }
   ],
   "source": [
    "np.insert(a, 0, 200)"
   ]
  },
  {
   "cell_type": "code",
   "execution_count": 90,
   "id": "c5eec565",
   "metadata": {},
   "outputs": [
    {
     "data": {
      "text/plain": [
       "array([  6,   5,   1,   9,   6,   7,   4,   5,   3,   4, 200])"
      ]
     },
     "execution_count": 90,
     "metadata": {},
     "output_type": "execute_result"
    }
   ],
   "source": [
    "np.append(a, 200)"
   ]
  },
  {
   "cell_type": "code",
   "execution_count": 91,
   "id": "d0f40af7",
   "metadata": {},
   "outputs": [
    {
     "data": {
      "text/plain": [
       "array([6, 5, 1, 9, 6, 7, 4, 5, 3])"
      ]
     },
     "execution_count": 91,
     "metadata": {},
     "output_type": "execute_result"
    }
   ],
   "source": [
    "#eliminar elementos\n",
    "np.delete(a, -1)"
   ]
  },
  {
   "cell_type": "code",
   "execution_count": 92,
   "id": "5e841c2f",
   "metadata": {},
   "outputs": [
    {
     "data": {
      "text/plain": [
       "10"
      ]
     },
     "execution_count": 92,
     "metadata": {},
     "output_type": "execute_result"
    }
   ],
   "source": [
    "a.size"
   ]
  },
  {
   "cell_type": "code",
   "execution_count": 93,
   "id": "65f9ecb2",
   "metadata": {},
   "outputs": [
    {
     "data": {
      "text/plain": [
       "array([6, 5, 1, 9, 6, 7, 4, 5, 3, 4, 6])"
      ]
     },
     "execution_count": 93,
     "metadata": {},
     "output_type": "execute_result"
    }
   ],
   "source": [
    "np.resize(a, 11)"
   ]
  },
  {
   "cell_type": "code",
   "execution_count": 94,
   "id": "de205bfc",
   "metadata": {},
   "outputs": [
    {
     "data": {
      "text/plain": [
       "array([6, 5, 1, 9, 6, 7, 4, 5, 3, 4])"
      ]
     },
     "execution_count": 94,
     "metadata": {},
     "output_type": "execute_result"
    }
   ],
   "source": [
    "a"
   ]
  },
  {
   "cell_type": "code",
   "execution_count": 95,
   "id": "81a345ad",
   "metadata": {},
   "outputs": [],
   "source": [
    "b = np.array([10, 20, 30, 40, 50])"
   ]
  },
  {
   "cell_type": "code",
   "execution_count": 96,
   "id": "bb7b0cbc",
   "metadata": {},
   "outputs": [
    {
     "data": {
      "text/plain": [
       "array([ 6,  5,  1,  9,  6,  7,  4,  5,  3,  4, 10, 20, 30, 40, 50])"
      ]
     },
     "execution_count": 96,
     "metadata": {},
     "output_type": "execute_result"
    }
   ],
   "source": [
    "np.concatenate([a, b])"
   ]
  },
  {
   "cell_type": "code",
   "execution_count": 97,
   "id": "3b6db8c6",
   "metadata": {},
   "outputs": [],
   "source": [
    "a = np.random.randint(0, 11, 100)"
   ]
  },
  {
   "cell_type": "code",
   "execution_count": 98,
   "id": "c1dea4c7",
   "metadata": {},
   "outputs": [],
   "source": [
    "a.sort()"
   ]
  },
  {
   "cell_type": "code",
   "execution_count": 99,
   "id": "5a280c40",
   "metadata": {},
   "outputs": [
    {
     "data": {
      "text/plain": [
       "array([ 0,  0,  0,  0,  0,  0,  0,  0,  1,  1,  1,  1,  1,  2,  2,  2,  2,\n",
       "        2,  2,  2,  2,  2,  3,  3,  3,  3,  3,  3,  3,  3,  3,  3,  3,  3,\n",
       "        3,  4,  4,  4,  4,  4,  4,  4,  4,  4,  4,  4,  5,  5,  5,  5,  5,\n",
       "        5,  5,  5,  5,  5,  5,  5,  5,  5,  5,  6,  6,  6,  6,  6,  6,  6,\n",
       "        6,  6,  6,  7,  7,  7,  7,  7,  7,  7,  7,  8,  8,  8,  8,  9,  9,\n",
       "        9,  9,  9,  9,  9,  9,  9, 10, 10, 10, 10, 10, 10, 10, 10])"
      ]
     },
     "execution_count": 99,
     "metadata": {},
     "output_type": "execute_result"
    }
   ],
   "source": [
    "a"
   ]
  },
  {
   "cell_type": "code",
   "execution_count": 100,
   "id": "b3f0128b",
   "metadata": {},
   "outputs": [],
   "source": [
    "a = a[::-1]"
   ]
  },
  {
   "cell_type": "code",
   "execution_count": 101,
   "id": "e020d257",
   "metadata": {},
   "outputs": [
    {
     "data": {
      "text/plain": [
       "array([10, 10, 10, 10, 10, 10, 10, 10,  9,  9,  9,  9,  9,  9,  9,  9,  9,\n",
       "        8,  8,  8,  8,  7,  7,  7,  7,  7,  7,  7,  7,  6,  6,  6,  6,  6,\n",
       "        6,  6,  6,  6,  6,  5,  5,  5,  5,  5,  5,  5,  5,  5,  5,  5,  5,\n",
       "        5,  5,  5,  4,  4,  4,  4,  4,  4,  4,  4,  4,  4,  4,  3,  3,  3,\n",
       "        3,  3,  3,  3,  3,  3,  3,  3,  3,  3,  2,  2,  2,  2,  2,  2,  2,\n",
       "        2,  2,  1,  1,  1,  1,  1,  0,  0,  0,  0,  0,  0,  0,  0])"
      ]
     },
     "execution_count": 101,
     "metadata": {},
     "output_type": "execute_result"
    }
   ],
   "source": [
    "a"
   ]
  },
  {
   "cell_type": "code",
   "execution_count": 102,
   "id": "724274b7",
   "metadata": {},
   "outputs": [],
   "source": [
    "b = np.random.randint(1, 100, 20)"
   ]
  },
  {
   "cell_type": "code",
   "execution_count": 103,
   "id": "3283aabe",
   "metadata": {},
   "outputs": [
    {
     "data": {
      "text/plain": [
       "array([77, 52, 73, 11, 32, 83, 74, 57, 45, 56, 77, 72, 53, 26, 38, 34, 93,\n",
       "       99, 95, 81])"
      ]
     },
     "execution_count": 103,
     "metadata": {},
     "output_type": "execute_result"
    }
   ],
   "source": [
    "b"
   ]
  },
  {
   "cell_type": "code",
   "execution_count": 104,
   "id": "7db108ca",
   "metadata": {},
   "outputs": [
    {
     "data": {
      "text/plain": [
       "array([11, 26, 32, 34, 38, 45, 52, 53, 56, 57, 72, 73, 74, 77, 77, 81, 83,\n",
       "       93, 95, 99])"
      ]
     },
     "execution_count": 104,
     "metadata": {},
     "output_type": "execute_result"
    }
   ],
   "source": [
    "np.sort(b)"
   ]
  },
  {
   "cell_type": "code",
   "execution_count": 105,
   "id": "04ce9833",
   "metadata": {},
   "outputs": [
    {
     "data": {
      "text/plain": [
       "array([99, 95, 93, 83, 81, 77, 77, 74, 73, 72, 57, 56, 53, 52, 45, 38, 34,\n",
       "       32, 26, 11])"
      ]
     },
     "execution_count": 105,
     "metadata": {},
     "output_type": "execute_result"
    }
   ],
   "source": [
    "np.sort(b)[::-1]"
   ]
  },
  {
   "cell_type": "code",
   "execution_count": 106,
   "id": "03d829fa",
   "metadata": {},
   "outputs": [],
   "source": [
    "#Matrices"
   ]
  },
  {
   "cell_type": "code",
   "execution_count": 107,
   "id": "800cf6fd",
   "metadata": {},
   "outputs": [],
   "source": [
    "A = np.array([\n",
    "    [1,2,3,4,5], \n",
    "    [10, 20, 30, 40, 50], \n",
    "    [100, 200, 300, 400, 500]\n",
    "    ])"
   ]
  },
  {
   "cell_type": "code",
   "execution_count": 108,
   "id": "07232155",
   "metadata": {},
   "outputs": [
    {
     "data": {
      "text/plain": [
       "array([[  1,   2,   3,   4,   5],\n",
       "       [ 10,  20,  30,  40,  50],\n",
       "       [100, 200, 300, 400, 500]])"
      ]
     },
     "execution_count": 108,
     "metadata": {},
     "output_type": "execute_result"
    }
   ],
   "source": [
    "A"
   ]
  },
  {
   "cell_type": "code",
   "execution_count": 109,
   "id": "9aca0d54",
   "metadata": {},
   "outputs": [
    {
     "data": {
      "text/plain": [
       "2"
      ]
     },
     "execution_count": 109,
     "metadata": {},
     "output_type": "execute_result"
    }
   ],
   "source": [
    "A.ndim"
   ]
  },
  {
   "cell_type": "code",
   "execution_count": 110,
   "id": "b5ccf708",
   "metadata": {},
   "outputs": [
    {
     "data": {
      "text/plain": [
       "(3, 5)"
      ]
     },
     "execution_count": 110,
     "metadata": {},
     "output_type": "execute_result"
    }
   ],
   "source": [
    "A.shape"
   ]
  },
  {
   "cell_type": "code",
   "execution_count": 111,
   "id": "b1e8e684",
   "metadata": {},
   "outputs": [
    {
     "data": {
      "text/plain": [
       "1"
      ]
     },
     "execution_count": 111,
     "metadata": {},
     "output_type": "execute_result"
    }
   ],
   "source": [
    "A[0][0]"
   ]
  },
  {
   "cell_type": "code",
   "execution_count": 112,
   "id": "21f465c6",
   "metadata": {},
   "outputs": [
    {
     "data": {
      "text/plain": [
       "30"
      ]
     },
     "execution_count": 112,
     "metadata": {},
     "output_type": "execute_result"
    }
   ],
   "source": [
    "A[1][2]"
   ]
  },
  {
   "cell_type": "code",
   "execution_count": 113,
   "id": "dab12be4",
   "metadata": {},
   "outputs": [
    {
     "data": {
      "text/plain": [
       "500"
      ]
     },
     "execution_count": 113,
     "metadata": {},
     "output_type": "execute_result"
    }
   ],
   "source": [
    "A[2][4]"
   ]
  },
  {
   "cell_type": "code",
   "execution_count": 114,
   "id": "4bcbff4e",
   "metadata": {},
   "outputs": [
    {
     "data": {
      "text/plain": [
       "1"
      ]
     },
     "execution_count": 114,
     "metadata": {},
     "output_type": "execute_result"
    }
   ],
   "source": [
    "A[0,0]"
   ]
  },
  {
   "cell_type": "code",
   "execution_count": 115,
   "id": "20db1730",
   "metadata": {},
   "outputs": [
    {
     "data": {
      "text/plain": [
       "30"
      ]
     },
     "execution_count": 115,
     "metadata": {},
     "output_type": "execute_result"
    }
   ],
   "source": [
    "A[1,2]"
   ]
  },
  {
   "cell_type": "code",
   "execution_count": 116,
   "id": "2a7a48c8",
   "metadata": {},
   "outputs": [
    {
     "data": {
      "text/plain": [
       "500"
      ]
     },
     "execution_count": 116,
     "metadata": {},
     "output_type": "execute_result"
    }
   ],
   "source": [
    "A[2,4]"
   ]
  },
  {
   "cell_type": "code",
   "execution_count": 117,
   "id": "0e3b19e6",
   "metadata": {},
   "outputs": [
    {
     "data": {
      "text/plain": [
       "array([[  1,   2,   3,   4,   5],\n",
       "       [ 10,  20,  30,  40,  50],\n",
       "       [100, 200, 300, 400, 500]])"
      ]
     },
     "execution_count": 117,
     "metadata": {},
     "output_type": "execute_result"
    }
   ],
   "source": [
    "A"
   ]
  },
  {
   "cell_type": "code",
   "execution_count": 118,
   "id": "a47abcd7",
   "metadata": {},
   "outputs": [
    {
     "data": {
      "text/plain": [
       "array([10, 20, 30])"
      ]
     },
     "execution_count": 118,
     "metadata": {},
     "output_type": "execute_result"
    }
   ],
   "source": [
    "A[1, :3]"
   ]
  },
  {
   "cell_type": "code",
   "execution_count": 119,
   "id": "42adf1aa",
   "metadata": {},
   "outputs": [
    {
     "data": {
      "text/plain": [
       "array([300, 400, 500])"
      ]
     },
     "execution_count": 119,
     "metadata": {},
     "output_type": "execute_result"
    }
   ],
   "source": [
    "A[2, 2:]"
   ]
  },
  {
   "cell_type": "code",
   "execution_count": 120,
   "id": "e6c063f5",
   "metadata": {},
   "outputs": [
    {
     "data": {
      "text/plain": [
       "array([1, 5])"
      ]
     },
     "execution_count": 120,
     "metadata": {},
     "output_type": "execute_result"
    }
   ],
   "source": [
    "A[0, [0, 4]]"
   ]
  },
  {
   "cell_type": "code",
   "execution_count": 121,
   "id": "08db26af",
   "metadata": {},
   "outputs": [
    {
     "data": {
      "text/plain": [
       "array([  4,  40, 400])"
      ]
     },
     "execution_count": 121,
     "metadata": {},
     "output_type": "execute_result"
    }
   ],
   "source": [
    "A[:, 3]"
   ]
  },
  {
   "cell_type": "code",
   "execution_count": 122,
   "id": "1ea45fb2",
   "metadata": {},
   "outputs": [
    {
     "data": {
      "text/plain": [
       "array([  5, 500])"
      ]
     },
     "execution_count": 122,
     "metadata": {},
     "output_type": "execute_result"
    }
   ],
   "source": [
    "A[[0, 2], 4]"
   ]
  },
  {
   "cell_type": "code",
   "execution_count": 123,
   "id": "f80a213e",
   "metadata": {},
   "outputs": [
    {
     "data": {
      "text/plain": [
       "(3, 5)"
      ]
     },
     "execution_count": 123,
     "metadata": {},
     "output_type": "execute_result"
    }
   ],
   "source": [
    "A.shape"
   ]
  },
  {
   "cell_type": "code",
   "execution_count": 124,
   "id": "acf0e2a5",
   "metadata": {},
   "outputs": [
    {
     "data": {
      "text/plain": [
       "157.21323099535866"
      ]
     },
     "execution_count": 124,
     "metadata": {},
     "output_type": "execute_result"
    }
   ],
   "source": [
    "A.std()"
   ]
  },
  {
   "cell_type": "code",
   "execution_count": 125,
   "id": "4a4a8247",
   "metadata": {},
   "outputs": [
    {
     "data": {
      "text/plain": [
       "1665"
      ]
     },
     "execution_count": 125,
     "metadata": {},
     "output_type": "execute_result"
    }
   ],
   "source": [
    "A.sum()"
   ]
  },
  {
   "cell_type": "code",
   "execution_count": 126,
   "id": "754b5f2b",
   "metadata": {},
   "outputs": [
    {
     "data": {
      "text/plain": [
       "1"
      ]
     },
     "execution_count": 126,
     "metadata": {},
     "output_type": "execute_result"
    }
   ],
   "source": [
    "A.min()"
   ]
  },
  {
   "cell_type": "code",
   "execution_count": 127,
   "id": "459da18b",
   "metadata": {},
   "outputs": [
    {
     "data": {
      "text/plain": [
       "500"
      ]
     },
     "execution_count": 127,
     "metadata": {},
     "output_type": "execute_result"
    }
   ],
   "source": [
    "A.max()"
   ]
  },
  {
   "cell_type": "code",
   "execution_count": 128,
   "id": "3bebeef2",
   "metadata": {},
   "outputs": [
    {
     "data": {
      "text/plain": [
       "111.0"
      ]
     },
     "execution_count": 128,
     "metadata": {},
     "output_type": "execute_result"
    }
   ],
   "source": [
    "A.mean()"
   ]
  },
  {
   "cell_type": "code",
   "execution_count": 129,
   "id": "92bf2627",
   "metadata": {},
   "outputs": [
    {
     "data": {
      "text/plain": [
       "array([[  1,   2,   3,   4,   5],\n",
       "       [ 10,  20,  30,  40,  50],\n",
       "       [100, 200, 300, 400, 500]])"
      ]
     },
     "execution_count": 129,
     "metadata": {},
     "output_type": "execute_result"
    }
   ],
   "source": [
    "A"
   ]
  },
  {
   "cell_type": "code",
   "execution_count": 130,
   "id": "b7a67655",
   "metadata": {},
   "outputs": [
    {
     "data": {
      "text/plain": [
       "array([  1,  10, 100])"
      ]
     },
     "execution_count": 130,
     "metadata": {},
     "output_type": "execute_result"
    }
   ],
   "source": [
    "A[:, 0]"
   ]
  },
  {
   "cell_type": "code",
   "execution_count": 131,
   "id": "f1ca9a97",
   "metadata": {},
   "outputs": [
    {
     "data": {
      "text/plain": [
       "array([1, 2, 3, 4, 5])"
      ]
     },
     "execution_count": 131,
     "metadata": {},
     "output_type": "execute_result"
    }
   ],
   "source": [
    "A[0, :]"
   ]
  },
  {
   "cell_type": "code",
   "execution_count": 132,
   "id": "0a9d2717",
   "metadata": {},
   "outputs": [
    {
     "data": {
      "text/plain": [
       "array([1])"
      ]
     },
     "execution_count": 132,
     "metadata": {},
     "output_type": "execute_result"
    }
   ],
   "source": [
    "A[0, :1]"
   ]
  },
  {
   "cell_type": "code",
   "execution_count": 133,
   "id": "def85d8f",
   "metadata": {},
   "outputs": [
    {
     "data": {
      "text/plain": [
       "array([[  1,  10, 100],\n",
       "       [  2,  20, 200],\n",
       "       [  3,  30, 300],\n",
       "       [  4,  40, 400],\n",
       "       [  5,  50, 500]])"
      ]
     },
     "execution_count": 133,
     "metadata": {},
     "output_type": "execute_result"
    }
   ],
   "source": [
    "A.transpose()"
   ]
  },
  {
   "cell_type": "code",
   "execution_count": 134,
   "id": "38ea1b11",
   "metadata": {},
   "outputs": [
    {
     "data": {
      "text/plain": [
       "array([[  1,   2,   3,   4,   5],\n",
       "       [ 10,  20,  30,  40,  50],\n",
       "       [100, 200, 300, 400, 500]])"
      ]
     },
     "execution_count": 134,
     "metadata": {},
     "output_type": "execute_result"
    }
   ],
   "source": [
    "A"
   ]
  },
  {
   "cell_type": "code",
   "execution_count": 135,
   "id": "b255778b",
   "metadata": {},
   "outputs": [
    {
     "data": {
      "text/plain": [
       "555"
      ]
     },
     "execution_count": 135,
     "metadata": {},
     "output_type": "execute_result"
    }
   ],
   "source": [
    "A[:, 4].sum()"
   ]
  },
  {
   "cell_type": "code",
   "execution_count": 136,
   "id": "69cb7cf9",
   "metadata": {},
   "outputs": [
    {
     "data": {
      "text/plain": [
       "555"
      ]
     },
     "execution_count": 136,
     "metadata": {},
     "output_type": "execute_result"
    }
   ],
   "source": [
    "A.T[4].sum()"
   ]
  },
  {
   "cell_type": "code",
   "execution_count": 137,
   "id": "a024c23b",
   "metadata": {},
   "outputs": [
    {
     "data": {
      "text/plain": [
       "(3, 5)"
      ]
     },
     "execution_count": 137,
     "metadata": {},
     "output_type": "execute_result"
    }
   ],
   "source": [
    "A.shape"
   ]
  },
  {
   "cell_type": "code",
   "execution_count": 138,
   "id": "8deb8192",
   "metadata": {},
   "outputs": [
    {
     "data": {
      "text/plain": [
       "(5, 3)"
      ]
     },
     "execution_count": 138,
     "metadata": {},
     "output_type": "execute_result"
    }
   ],
   "source": [
    "A.T.shape"
   ]
  },
  {
   "cell_type": "code",
   "execution_count": 139,
   "id": "b77d239b",
   "metadata": {},
   "outputs": [],
   "source": [
    "#Filtros\n",
    "a = np.random.randint(1,11, 50)"
   ]
  },
  {
   "cell_type": "code",
   "execution_count": 140,
   "id": "0b3a65b5",
   "metadata": {},
   "outputs": [
    {
     "data": {
      "text/plain": [
       "array([ 4,  6,  8,  8, 10,  6,  1,  4,  4,  5,  1, 10,  9,  5,  5,  1,  8,\n",
       "        8,  8,  8, 10,  9,  9,  2, 10,  6,  6,  3,  5,  1,  2,  1,  1,  6,\n",
       "        1,  7,  3,  5,  7,  5,  2, 10, 10,  3,  4,  5,  9, 10,  4,  8])"
      ]
     },
     "execution_count": 140,
     "metadata": {},
     "output_type": "execute_result"
    }
   ],
   "source": [
    "a"
   ]
  },
  {
   "cell_type": "code",
   "execution_count": 141,
   "id": "c6272a08",
   "metadata": {},
   "outputs": [
    {
     "data": {
      "text/plain": [
       "array([False, False, False, False, False, False, False, False, False,\n",
       "       False, False, False, False, False, False, False, False, False,\n",
       "       False, False, False, False, False, False, False, False, False,\n",
       "       False, False, False, False, False, False, False, False, False,\n",
       "       False, False, False, False, False, False, False, False, False,\n",
       "       False, False, False, False, False])"
      ]
     },
     "execution_count": 141,
     "metadata": {},
     "output_type": "execute_result"
    }
   ],
   "source": [
    "a > 50"
   ]
  },
  {
   "cell_type": "code",
   "execution_count": 142,
   "id": "491fb8a3",
   "metadata": {},
   "outputs": [],
   "source": [
    "a = np.random.randint(10, 101, 50)"
   ]
  },
  {
   "cell_type": "code",
   "execution_count": 143,
   "id": "4db1133b",
   "metadata": {},
   "outputs": [
    {
     "data": {
      "text/plain": [
       "array([13, 56, 33, 43, 64, 56, 50, 18, 31, 87, 64, 77, 43, 59, 50, 40, 25,\n",
       "       75, 45, 36, 58, 90, 11, 63, 59, 50, 56, 69, 85, 75, 41, 64, 89, 97,\n",
       "       97, 87, 76, 83, 31, 65, 66, 38, 45, 82, 76, 10, 89, 80, 46, 62])"
      ]
     },
     "execution_count": 143,
     "metadata": {},
     "output_type": "execute_result"
    }
   ],
   "source": [
    "a"
   ]
  },
  {
   "cell_type": "code",
   "execution_count": 144,
   "id": "00c2a172",
   "metadata": {},
   "outputs": [
    {
     "data": {
      "text/plain": [
       "array([False,  True, False, False,  True,  True, False, False, False,\n",
       "        True,  True,  True, False,  True, False, False, False,  True,\n",
       "       False, False,  True,  True, False,  True,  True, False,  True,\n",
       "        True,  True,  True, False,  True,  True,  True,  True,  True,\n",
       "        True,  True, False,  True,  True, False, False,  True,  True,\n",
       "       False,  True,  True, False,  True])"
      ]
     },
     "execution_count": 144,
     "metadata": {},
     "output_type": "execute_result"
    }
   ],
   "source": [
    "a > 50"
   ]
  },
  {
   "cell_type": "code",
   "execution_count": 145,
   "id": "88aa0ff1",
   "metadata": {},
   "outputs": [],
   "source": [
    "b = a > 50"
   ]
  },
  {
   "cell_type": "code",
   "execution_count": 146,
   "id": "abc6c8ae",
   "metadata": {},
   "outputs": [
    {
     "data": {
      "text/plain": [
       "array([False,  True, False, False,  True,  True, False, False, False,\n",
       "        True,  True,  True, False,  True, False, False, False,  True,\n",
       "       False, False,  True,  True, False,  True,  True, False,  True,\n",
       "        True,  True,  True, False,  True,  True,  True,  True,  True,\n",
       "        True,  True, False,  True,  True, False, False,  True,  True,\n",
       "       False,  True,  True, False,  True])"
      ]
     },
     "execution_count": 146,
     "metadata": {},
     "output_type": "execute_result"
    }
   ],
   "source": [
    "b"
   ]
  },
  {
   "cell_type": "code",
   "execution_count": 147,
   "id": "4fb83668",
   "metadata": {},
   "outputs": [],
   "source": [
    "c = a[b]"
   ]
  },
  {
   "cell_type": "code",
   "execution_count": 148,
   "id": "5a12ac52",
   "metadata": {},
   "outputs": [
    {
     "data": {
      "text/plain": [
       "array([56, 64, 56, 87, 64, 77, 59, 75, 58, 90, 63, 59, 56, 69, 85, 75, 64,\n",
       "       89, 97, 97, 87, 76, 83, 65, 66, 82, 76, 89, 80, 62])"
      ]
     },
     "execution_count": 148,
     "metadata": {},
     "output_type": "execute_result"
    }
   ],
   "source": [
    "c"
   ]
  },
  {
   "cell_type": "code",
   "execution_count": 150,
   "id": "ab55f7c9",
   "metadata": {},
   "outputs": [
    {
     "data": {
      "text/plain": [
       "False"
      ]
     },
     "execution_count": 150,
     "metadata": {},
     "output_type": "execute_result"
    }
   ],
   "source": [
    "np.all(a > 50)"
   ]
  },
  {
   "cell_type": "code",
   "execution_count": 151,
   "id": "56a894ca",
   "metadata": {},
   "outputs": [
    {
     "data": {
      "text/plain": [
       "True"
      ]
     },
     "execution_count": 151,
     "metadata": {},
     "output_type": "execute_result"
    }
   ],
   "source": [
    "np.all(a > 0)"
   ]
  },
  {
   "cell_type": "code",
   "execution_count": 152,
   "id": "4099e3f7",
   "metadata": {},
   "outputs": [
    {
     "data": {
      "text/plain": [
       "True"
      ]
     },
     "execution_count": 152,
     "metadata": {},
     "output_type": "execute_result"
    }
   ],
   "source": [
    "np.any((a >= 0) & (a <= 100))"
   ]
  },
  {
   "cell_type": "code",
   "execution_count": 153,
   "id": "ee169821",
   "metadata": {},
   "outputs": [
    {
     "data": {
      "text/plain": [
       "True"
      ]
     },
     "execution_count": 153,
     "metadata": {},
     "output_type": "execute_result"
    }
   ],
   "source": [
    "np.any(a > 10)"
   ]
  },
  {
   "cell_type": "code",
   "execution_count": 154,
   "id": "a08b0093",
   "metadata": {},
   "outputs": [
    {
     "data": {
      "text/plain": [
       "True"
      ]
     },
     "execution_count": 154,
     "metadata": {},
     "output_type": "execute_result"
    }
   ],
   "source": [
    "np.any(a = 10)"
   ]
  },
  {
   "cell_type": "code",
   "execution_count": 156,
   "id": "d99065ff",
   "metadata": {},
   "outputs": [],
   "source": [
    "calificaciones = np.array([7,8,5,6,9,10, 3, 5, 6, 8, 9, 10])"
   ]
  },
  {
   "cell_type": "code",
   "execution_count": 157,
   "id": "90f0be0e",
   "metadata": {},
   "outputs": [
    {
     "data": {
      "text/plain": [
       "array(['Felicidades', 'Felicidades', 'Lo sentimos, no aprobaste',\n",
       "       'Lo sentimos, no aprobaste', 'Felicidades', 'Felicidades',\n",
       "       'Lo sentimos, no aprobaste', 'Lo sentimos, no aprobaste',\n",
       "       'Lo sentimos, no aprobaste', 'Felicidades', 'Felicidades',\n",
       "       'Felicidades'], dtype='<U25')"
      ]
     },
     "execution_count": 157,
     "metadata": {},
     "output_type": "execute_result"
    }
   ],
   "source": [
    "np.where(calificaciones >= 7, 'Felicidades', 'Lo sentimos, no aprobaste')"
   ]
  },
  {
   "cell_type": "code",
   "execution_count": 164,
   "id": "4c0f8e42",
   "metadata": {},
   "outputs": [],
   "source": [
    "condicion = [(calificaciones == 10), ((calificaciones == 8) | (calificaciones == 9)), (calificaciones == 7), (calificaciones < 7)]"
   ]
  },
  {
   "cell_type": "code",
   "execution_count": 165,
   "id": "cd179877",
   "metadata": {},
   "outputs": [],
   "source": [
    "opciones = [\"Sacaste 10!!\", 'Felicidades', 'Aprobaste', 'Reprobaste, puto']"
   ]
  },
  {
   "cell_type": "code",
   "execution_count": 166,
   "id": "f44b416a",
   "metadata": {},
   "outputs": [
    {
     "data": {
      "text/plain": [
       "array(['Aprobaste', 'Felicidades', 'Reprobaste, puto', 'Reprobaste, puto',\n",
       "       'Felicidades', 'Sacaste 10!!', 'Reprobaste, puto',\n",
       "       'Reprobaste, puto', 'Reprobaste, puto', 'Felicidades',\n",
       "       'Felicidades', 'Sacaste 10!!'], dtype='<U21')"
      ]
     },
     "execution_count": 166,
     "metadata": {},
     "output_type": "execute_result"
    }
   ],
   "source": [
    "np.select(condicion, opciones)"
   ]
  },
  {
   "cell_type": "code",
   "execution_count": null,
   "id": "a3383a8b",
   "metadata": {},
   "outputs": [],
   "source": []
  }
 ],
 "metadata": {
  "interpreter": {
   "hash": "6833b3556e9f219de74e77b1bcd6bb6116d8db57b405927afc38b4936e200710"
  },
  "kernelspec": {
   "display_name": "dss",
   "language": "python",
   "name": "python3"
  },
  "language_info": {
   "codemirror_mode": {
    "name": "ipython",
    "version": 3
   },
   "file_extension": ".py",
   "mimetype": "text/x-python",
   "name": "python",
   "nbconvert_exporter": "python",
   "pygments_lexer": "ipython3",
   "version": "3.8.10"
  }
 },
 "nbformat": 4,
 "nbformat_minor": 5
}
